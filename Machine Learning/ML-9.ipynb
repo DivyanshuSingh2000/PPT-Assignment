{
 "cells": [
  {
   "cell_type": "markdown",
   "metadata": {
    "execution": {
     "iopub.execute_input": "2023-05-29T12:22:53.884460Z",
     "iopub.status.busy": "2023-05-29T12:22:53.884073Z",
     "iopub.status.idle": "2023-05-29T12:22:53.912590Z",
     "shell.execute_reply": "2023-05-29T12:22:53.911507Z",
     "shell.execute_reply.started": "2023-05-29T12:22:53.884415Z"
    }
   },
   "source": [
    "import warnings \n",
    "warnings.filterwarnings('ignore')"
   ]
  },
  {
   "cell_type": "code",
   "execution_count": 2,
   "metadata": {
    "execution": {
     "iopub.execute_input": "2023-05-29T12:23:01.746562Z",
     "iopub.status.busy": "2023-05-29T12:23:01.745606Z",
     "iopub.status.idle": "2023-05-29T12:23:03.436515Z",
     "shell.execute_reply": "2023-05-29T12:23:03.435152Z",
     "shell.execute_reply.started": "2023-05-29T12:23:01.746478Z"
    }
   },
   "outputs": [],
   "source": [
    "import pandas as pd\n",
    "import numpy as np\n",
    "import sys\n",
    "import os\n",
    "\n",
    "from sklearn.model_selection import train_test_split\n",
    "from sklearn.preprocessing import OrdinalEncoder\n",
    "import lightgbm as lgb\n",
    "from sklearn.model_selection import GridSearchCV\n",
    "\n",
    "import matplotlib.pyplot as plt\n",
    "import seaborn as sns"
   ]
  },
  {
   "cell_type": "code",
   "execution_count": 3,
   "metadata": {
    "execution": {
     "iopub.execute_input": "2023-05-29T12:23:07.112074Z",
     "iopub.status.busy": "2023-05-29T12:23:07.111745Z",
     "iopub.status.idle": "2023-05-29T12:23:07.119525Z",
     "shell.execute_reply": "2023-05-29T12:23:07.118422Z",
     "shell.execute_reply.started": "2023-05-29T12:23:07.112048Z"
    }
   },
   "outputs": [],
   "source": [
    "column_data_types = {'IsBeta' : 'Int8',\n",
    "                 'RtpStateBitfield' : 'Int16',\n",
    "                 'IsSxsPassiveMode' : 'Int8',\n",
    "                 'HasTpm' : 'Int8',\n",
    "                 'CountryIdentifier' : 'Int64',\n",
    "                 'CityIdentifier' : 'Int64',\n",
    "                 'OrganizationIdentifier' : 'Int64',\n",
    "                 'IsProtected' : 'Int8',\n",
    "                 'AutoSampleOptIn' : 'Int8',\n",
    "                 'SMode' : 'Int8',\n",
    "                 'Firewall' : 'Int8',\n",
    "                 'Census_HasOpticalDiskDrive' : 'Int8',\n",
    "                 'Census_IsPortableOperatingSystem' : 'Int8',\n",
    "                 'Census_IsFlightsDisabled' : 'Int8',\n",
    "                 'Census_IsSecureBootEnabled' : 'Int8',\n",
    "                 'Census_IsWIMBootEnabled' : 'Int8',\n",
    "                 'Census_IsVirtualDevice' : 'Int8',\n",
    "                 'Census_IsTouchEnabled' : 'Int8',\n",
    "                 'Census_IsPenCapable' : 'Int8',\n",
    "                 'Census_IsAlwaysOnAlwaysConnectedCapable': 'Int8',\n",
    "                 'Wdft_IsGamer' : 'Int8',\n",
    "                 'HasDetections' : 'int'}"
   ]
  },
  {
   "cell_type": "code",
   "execution_count": 4,
   "metadata": {
    "execution": {
     "iopub.execute_input": "2023-05-29T12:23:12.579353Z",
     "iopub.status.busy": "2023-05-29T12:23:12.578219Z",
     "iopub.status.idle": "2023-05-29T12:23:12.584781Z",
     "shell.execute_reply": "2023-05-29T12:23:12.583476Z",
     "shell.execute_reply.started": "2023-05-29T12:23:12.579319Z"
    }
   },
   "outputs": [],
   "source": [
    "columns_to_ignore = ('DefaultBrowsersIdentifier',  # 95.14% NA values\n",
    "                     'PuaMode', # 99.97% NA values\n",
    "                     'Census_ProcessorClass', # 99.59% NA values.\n",
    "                     'Census_InternalBatteryType', # 71.05% NA values\n",
    "                     'Census_IsFlightingInternal', #83.04% NA values\n",
    "                     'Census_ThresholdOptIn', # 63.52% NA values\n",
    "                     \n",
    "                     # numerical features\n",
    "                     'Census_PrimaryDiskTotalCapacity', \n",
    "                     'Census_SystemVolumeTotalCapacity', \n",
    "                     'Census_TotalPhysicalRAM',        \n",
    "                     'Census_InternalPrimaryDisplayResolutionHorizontal',\n",
    "                     'Census_InternalPrimaryDisplayResolutionVertical',\n",
    "                     'Census_InternalPrimaryDiagonalDisplaySizeInInches',\n",
    "                     'Census_InternalBatteryNumberOfCharges',\n",
    "                     \n",
    "                     'IsBeta', \n",
    "                     'AutoSampleOptIn', \n",
    "                     'UacLuaenable', \n",
    "                     'Census_IsWIMBootEnabled',\n",
    "                     \n",
    "                     'Census_FlightRing_not',\n",
    "                     'Census_IsAlwaysOnAlwaysConnectedCapable',\n",
    "                     'Census_IsSecureBootEnabled',\n",
    "                     'Census_IsTouchEnabled',\n",
    "                     'Census_IsVirtualDevice',\n",
    "                     'SMode'\n",
    "                    )"
   ]
  },
  {
   "cell_type": "code",
   "execution_count": 5,
   "metadata": {
    "execution": {
     "iopub.execute_input": "2023-05-29T12:23:21.505176Z",
     "iopub.status.busy": "2023-05-29T12:23:21.504801Z",
     "iopub.status.idle": "2023-05-29T12:23:21.509925Z",
     "shell.execute_reply": "2023-05-29T12:23:21.508923Z",
     "shell.execute_reply.started": "2023-05-29T12:23:21.505148Z"
    }
   },
   "outputs": [],
   "source": [
    "label_column = 'HasDetections'"
   ]
  },
  {
   "cell_type": "markdown",
   "metadata": {},
   "source": [
    "## Loading the training dataset\n",
    "\n",
    "Dataset is very large, if you try to load it entirely without columns_to_ignore and without defining the column data types, the kernel will most likely crash."
   ]
  },
  {
   "cell_type": "code",
   "execution_count": 6,
   "metadata": {
    "execution": {
     "iopub.execute_input": "2023-05-29T12:23:30.434450Z",
     "iopub.status.busy": "2023-05-29T12:23:30.434116Z",
     "iopub.status.idle": "2023-05-29T12:26:21.537498Z",
     "shell.execute_reply": "2023-05-29T12:26:21.535948Z",
     "shell.execute_reply.started": "2023-05-29T12:23:30.434423Z"
    }
   },
   "outputs": [
    {
     "data": {
      "text/html": [
       "<div>\n",
       "<style scoped>\n",
       "    .dataframe tbody tr th:only-of-type {\n",
       "        vertical-align: middle;\n",
       "    }\n",
       "\n",
       "    .dataframe tbody tr th {\n",
       "        vertical-align: top;\n",
       "    }\n",
       "\n",
       "    .dataframe thead th {\n",
       "        text-align: right;\n",
       "    }\n",
       "</style>\n",
       "<table border=\"1\" class=\"dataframe\">\n",
       "  <thead>\n",
       "    <tr style=\"text-align: right;\">\n",
       "      <th></th>\n",
       "      <th>MachineIdentifier</th>\n",
       "      <th>ProductName</th>\n",
       "      <th>EngineVersion</th>\n",
       "      <th>AppVersion</th>\n",
       "      <th>AvSigVersion</th>\n",
       "      <th>RtpStateBitfield</th>\n",
       "      <th>IsSxsPassiveMode</th>\n",
       "      <th>AVProductStatesIdentifier</th>\n",
       "      <th>AVProductsInstalled</th>\n",
       "      <th>AVProductsEnabled</th>\n",
       "      <th>...</th>\n",
       "      <th>Census_GenuineStateName</th>\n",
       "      <th>Census_ActivationChannel</th>\n",
       "      <th>Census_IsFlightsDisabled</th>\n",
       "      <th>Census_FlightRing</th>\n",
       "      <th>Census_FirmwareManufacturerIdentifier</th>\n",
       "      <th>Census_FirmwareVersionIdentifier</th>\n",
       "      <th>Census_IsPenCapable</th>\n",
       "      <th>Wdft_IsGamer</th>\n",
       "      <th>Wdft_RegionIdentifier</th>\n",
       "      <th>HasDetections</th>\n",
       "    </tr>\n",
       "  </thead>\n",
       "  <tbody>\n",
       "    <tr>\n",
       "      <th>0</th>\n",
       "      <td>0000028988387b115f69f31a3bf04f09</td>\n",
       "      <td>win8defender</td>\n",
       "      <td>1.1.15100.1</td>\n",
       "      <td>4.18.1807.18075</td>\n",
       "      <td>1.273.1735.0</td>\n",
       "      <td>7</td>\n",
       "      <td>0</td>\n",
       "      <td>53447.0</td>\n",
       "      <td>1.0</td>\n",
       "      <td>1.0</td>\n",
       "      <td>...</td>\n",
       "      <td>IS_GENUINE</td>\n",
       "      <td>Retail</td>\n",
       "      <td>0</td>\n",
       "      <td>Retail</td>\n",
       "      <td>628.0</td>\n",
       "      <td>36144.0</td>\n",
       "      <td>0</td>\n",
       "      <td>0</td>\n",
       "      <td>10.0</td>\n",
       "      <td>0</td>\n",
       "    </tr>\n",
       "    <tr>\n",
       "      <th>1</th>\n",
       "      <td>000007535c3f730efa9ea0b7ef1bd645</td>\n",
       "      <td>win8defender</td>\n",
       "      <td>1.1.14600.4</td>\n",
       "      <td>4.13.17134.1</td>\n",
       "      <td>1.263.48.0</td>\n",
       "      <td>7</td>\n",
       "      <td>0</td>\n",
       "      <td>53447.0</td>\n",
       "      <td>1.0</td>\n",
       "      <td>1.0</td>\n",
       "      <td>...</td>\n",
       "      <td>OFFLINE</td>\n",
       "      <td>Retail</td>\n",
       "      <td>0</td>\n",
       "      <td>NOT_SET</td>\n",
       "      <td>628.0</td>\n",
       "      <td>57858.0</td>\n",
       "      <td>0</td>\n",
       "      <td>0</td>\n",
       "      <td>8.0</td>\n",
       "      <td>0</td>\n",
       "    </tr>\n",
       "    <tr>\n",
       "      <th>2</th>\n",
       "      <td>000007905a28d863f6d0d597892cd692</td>\n",
       "      <td>win8defender</td>\n",
       "      <td>1.1.15100.1</td>\n",
       "      <td>4.18.1807.18075</td>\n",
       "      <td>1.273.1341.0</td>\n",
       "      <td>7</td>\n",
       "      <td>0</td>\n",
       "      <td>53447.0</td>\n",
       "      <td>1.0</td>\n",
       "      <td>1.0</td>\n",
       "      <td>...</td>\n",
       "      <td>IS_GENUINE</td>\n",
       "      <td>OEM:NONSLP</td>\n",
       "      <td>0</td>\n",
       "      <td>Retail</td>\n",
       "      <td>142.0</td>\n",
       "      <td>52682.0</td>\n",
       "      <td>0</td>\n",
       "      <td>0</td>\n",
       "      <td>3.0</td>\n",
       "      <td>0</td>\n",
       "    </tr>\n",
       "    <tr>\n",
       "      <th>3</th>\n",
       "      <td>00000b11598a75ea8ba1beea8459149f</td>\n",
       "      <td>win8defender</td>\n",
       "      <td>1.1.15100.1</td>\n",
       "      <td>4.18.1807.18075</td>\n",
       "      <td>1.273.1527.0</td>\n",
       "      <td>7</td>\n",
       "      <td>0</td>\n",
       "      <td>53447.0</td>\n",
       "      <td>1.0</td>\n",
       "      <td>1.0</td>\n",
       "      <td>...</td>\n",
       "      <td>IS_GENUINE</td>\n",
       "      <td>OEM:NONSLP</td>\n",
       "      <td>0</td>\n",
       "      <td>Retail</td>\n",
       "      <td>355.0</td>\n",
       "      <td>20050.0</td>\n",
       "      <td>0</td>\n",
       "      <td>0</td>\n",
       "      <td>3.0</td>\n",
       "      <td>1</td>\n",
       "    </tr>\n",
       "    <tr>\n",
       "      <th>4</th>\n",
       "      <td>000014a5f00daa18e76b81417eeb99fc</td>\n",
       "      <td>win8defender</td>\n",
       "      <td>1.1.15100.1</td>\n",
       "      <td>4.18.1807.18075</td>\n",
       "      <td>1.273.1379.0</td>\n",
       "      <td>7</td>\n",
       "      <td>0</td>\n",
       "      <td>53447.0</td>\n",
       "      <td>1.0</td>\n",
       "      <td>1.0</td>\n",
       "      <td>...</td>\n",
       "      <td>IS_GENUINE</td>\n",
       "      <td>Retail</td>\n",
       "      <td>0</td>\n",
       "      <td>Retail</td>\n",
       "      <td>355.0</td>\n",
       "      <td>19844.0</td>\n",
       "      <td>0</td>\n",
       "      <td>0</td>\n",
       "      <td>1.0</td>\n",
       "      <td>1</td>\n",
       "    </tr>\n",
       "  </tbody>\n",
       "</table>\n",
       "<p>5 rows × 61 columns</p>\n",
       "</div>"
      ],
      "text/plain": [
       "                  MachineIdentifier   ProductName EngineVersion  \\\n",
       "0  0000028988387b115f69f31a3bf04f09  win8defender   1.1.15100.1   \n",
       "1  000007535c3f730efa9ea0b7ef1bd645  win8defender   1.1.14600.4   \n",
       "2  000007905a28d863f6d0d597892cd692  win8defender   1.1.15100.1   \n",
       "3  00000b11598a75ea8ba1beea8459149f  win8defender   1.1.15100.1   \n",
       "4  000014a5f00daa18e76b81417eeb99fc  win8defender   1.1.15100.1   \n",
       "\n",
       "        AppVersion  AvSigVersion  RtpStateBitfield  IsSxsPassiveMode  \\\n",
       "0  4.18.1807.18075  1.273.1735.0                 7                 0   \n",
       "1     4.13.17134.1    1.263.48.0                 7                 0   \n",
       "2  4.18.1807.18075  1.273.1341.0                 7                 0   \n",
       "3  4.18.1807.18075  1.273.1527.0                 7                 0   \n",
       "4  4.18.1807.18075  1.273.1379.0                 7                 0   \n",
       "\n",
       "   AVProductStatesIdentifier  AVProductsInstalled  AVProductsEnabled  ...  \\\n",
       "0                    53447.0                  1.0                1.0  ...   \n",
       "1                    53447.0                  1.0                1.0  ...   \n",
       "2                    53447.0                  1.0                1.0  ...   \n",
       "3                    53447.0                  1.0                1.0  ...   \n",
       "4                    53447.0                  1.0                1.0  ...   \n",
       "\n",
       "   Census_GenuineStateName  Census_ActivationChannel  \\\n",
       "0               IS_GENUINE                    Retail   \n",
       "1                  OFFLINE                    Retail   \n",
       "2               IS_GENUINE                OEM:NONSLP   \n",
       "3               IS_GENUINE                OEM:NONSLP   \n",
       "4               IS_GENUINE                    Retail   \n",
       "\n",
       "   Census_IsFlightsDisabled  Census_FlightRing  \\\n",
       "0                         0             Retail   \n",
       "1                         0            NOT_SET   \n",
       "2                         0             Retail   \n",
       "3                         0             Retail   \n",
       "4                         0             Retail   \n",
       "\n",
       "   Census_FirmwareManufacturerIdentifier  Census_FirmwareVersionIdentifier  \\\n",
       "0                                  628.0                           36144.0   \n",
       "1                                  628.0                           57858.0   \n",
       "2                                  142.0                           52682.0   \n",
       "3                                  355.0                           20050.0   \n",
       "4                                  355.0                           19844.0   \n",
       "\n",
       "  Census_IsPenCapable Wdft_IsGamer Wdft_RegionIdentifier  HasDetections  \n",
       "0                   0            0                  10.0              0  \n",
       "1                   0            0                   8.0              0  \n",
       "2                   0            0                   3.0              0  \n",
       "3                   0            0                   3.0              1  \n",
       "4                   0            0                   1.0              1  \n",
       "\n",
       "[5 rows x 61 columns]"
      ]
     },
     "execution_count": 6,
     "metadata": {},
     "output_type": "execute_result"
    }
   ],
   "source": [
    "train_df = pd.read_csv('/kaggle/input/microsoft-malware-prediction/train.csv',usecols = lambda x: x not in columns_to_ignore,dtype = column_data_types)\n",
    "train_df.head()"
   ]
  },
  {
   "cell_type": "code",
   "execution_count": 7,
   "metadata": {
    "execution": {
     "iopub.execute_input": "2023-05-29T12:26:21.540045Z",
     "iopub.status.busy": "2023-05-29T12:26:21.539705Z",
     "iopub.status.idle": "2023-05-29T12:26:50.434730Z",
     "shell.execute_reply": "2023-05-29T12:26:50.433088Z",
     "shell.execute_reply.started": "2023-05-29T12:26:21.540020Z"
    }
   },
   "outputs": [
    {
     "name": "stdout",
     "output_type": "stream",
     "text": [
      "\"MachineIdentifier\" has 8921483 unique values and 0.00000% NA values.\n",
      "\"ProductName\" has 6 unique values and 0.00000% NA values.\n",
      "\"EngineVersion\" has 70 unique values and 0.00000% NA values.\n",
      "\"AppVersion\" has 110 unique values and 0.00000% NA values.\n",
      "\"AvSigVersion\" has 8531 unique values and 0.00000% NA values.\n",
      "\"RtpStateBitfield\" has 7 unique values and 0.36225% NA values.\n",
      "\"IsSxsPassiveMode\" has 2 unique values and 0.00000% NA values.\n",
      "\"AVProductStatesIdentifier\" has 28970 unique values and 0.40600% NA values.\n",
      "\"AVProductsInstalled\" has 8 unique values and 0.40600% NA values.\n",
      "\"AVProductsEnabled\" has 6 unique values and 0.40600% NA values.\n",
      "\"HasTpm\" has 2 unique values and 0.00000% NA values.\n",
      "\"CountryIdentifier\" has 222 unique values and 0.00000% NA values.\n",
      "\"CityIdentifier\" has 107366 unique values and 3.64748% NA values.\n",
      "\"OrganizationIdentifier\" has 49 unique values and 30.84149% NA values.\n",
      "\"GeoNameIdentifier\" has 292 unique values and 0.00239% NA values.\n",
      "\"LocaleEnglishNameIdentifier\" has 276 unique values and 0.00000% NA values.\n",
      "\"Platform\" has 4 unique values and 0.00000% NA values.\n",
      "\"Processor\" has 3 unique values and 0.00000% NA values.\n",
      "\"OsVer\" has 58 unique values and 0.00000% NA values.\n",
      "\"OsBuild\" has 76 unique values and 0.00000% NA values.\n",
      "\"OsSuite\" has 14 unique values and 0.00000% NA values.\n",
      "\"OsPlatformSubRelease\" has 9 unique values and 0.00000% NA values.\n",
      "\"OsBuildLab\" has 663 unique values and 0.00024% NA values.\n",
      "\"SkuEdition\" has 8 unique values and 0.00000% NA values.\n",
      "\"IsProtected\" has 2 unique values and 0.40401% NA values.\n",
      "\"IeVerIdentifier\" has 303 unique values and 0.66014% NA values.\n",
      "\"SmartScreen\" has 21 unique values and 35.61079% NA values.\n",
      "\"Firewall\" has 2 unique values and 1.02393% NA values.\n",
      "\"Census_MDC2FormFactor\" has 13 unique values and 0.00000% NA values.\n",
      "\"Census_DeviceFamily\" has 3 unique values and 0.00000% NA values.\n",
      "\"Census_OEMNameIdentifier\" has 3832 unique values and 1.07020% NA values.\n",
      "\"Census_OEMModelIdentifier\" has 175365 unique values and 1.14592% NA values.\n",
      "\"Census_ProcessorCoreCount\" has 45 unique values and 0.46299% NA values.\n",
      "\"Census_ProcessorManufacturerIdentifier\" has 7 unique values and 0.46307% NA values.\n",
      "\"Census_ProcessorModelIdentifier\" has 3428 unique values and 0.46341% NA values.\n",
      "\"Census_PrimaryDiskTypeName\" has 4 unique values and 0.14397% NA values.\n",
      "\"Census_HasOpticalDiskDrive\" has 2 unique values and 0.00000% NA values.\n",
      "\"Census_ChassisTypeName\" has 52 unique values and 0.00698% NA values.\n",
      "\"Census_PowerPlatformRoleName\" has 10 unique values and 0.00062% NA values.\n",
      "\"Census_OSVersion\" has 469 unique values and 0.00000% NA values.\n",
      "\"Census_OSArchitecture\" has 3 unique values and 0.00000% NA values.\n",
      "\"Census_OSBranch\" has 32 unique values and 0.00000% NA values.\n",
      "\"Census_OSBuildNumber\" has 165 unique values and 0.00000% NA values.\n",
      "\"Census_OSBuildRevision\" has 285 unique values and 0.00000% NA values.\n",
      "\"Census_OSEdition\" has 33 unique values and 0.00000% NA values.\n",
      "\"Census_OSSkuName\" has 30 unique values and 0.00000% NA values.\n",
      "\"Census_OSInstallTypeName\" has 9 unique values and 0.00000% NA values.\n",
      "\"Census_OSInstallLanguageIdentifier\" has 39 unique values and 0.67348% NA values.\n",
      "\"Census_OSUILocaleIdentifier\" has 147 unique values and 0.00000% NA values.\n",
      "\"Census_OSWUAutoUpdateOptionsName\" has 6 unique values and 0.00000% NA values.\n",
      "\"Census_IsPortableOperatingSystem\" has 2 unique values and 0.00000% NA values.\n",
      "\"Census_GenuineStateName\" has 5 unique values and 0.00000% NA values.\n",
      "\"Census_ActivationChannel\" has 6 unique values and 0.00000% NA values.\n",
      "\"Census_IsFlightsDisabled\" has 2 unique values and 1.79929% NA values.\n",
      "\"Census_FlightRing\" has 10 unique values and 0.00000% NA values.\n",
      "\"Census_FirmwareManufacturerIdentifier\" has 712 unique values and 2.05411% NA values.\n",
      "\"Census_FirmwareVersionIdentifier\" has 50494 unique values and 1.79491% NA values.\n",
      "\"Census_IsPenCapable\" has 2 unique values and 0.00000% NA values.\n",
      "\"Wdft_IsGamer\" has 2 unique values and 3.40135% NA values.\n",
      "\"Wdft_RegionIdentifier\" has 15 unique values and 3.40135% NA values.\n",
      "\"HasDetections\" has 2 unique values and 0.00000% NA values.\n"
     ]
    }
   ],
   "source": [
    "for col in train_df.columns:\n",
    "    print(f'\"{col}\" has {train_df[col].nunique()} unique values and {train_df[col].isna().sum() / len(train_df) * 100:.5f}% NA values.')"
   ]
  },
  {
   "cell_type": "code",
   "execution_count": 8,
   "metadata": {
    "execution": {
     "iopub.execute_input": "2023-05-29T12:26:50.436350Z",
     "iopub.status.busy": "2023-05-29T12:26:50.436070Z",
     "iopub.status.idle": "2023-05-29T12:26:51.078384Z",
     "shell.execute_reply": "2023-05-29T12:26:51.077685Z",
     "shell.execute_reply.started": "2023-05-29T12:26:50.436327Z"
    }
   },
   "outputs": [
    {
     "data": {
      "text/plain": [
       "<AxesSubplot: xlabel='HasDetections', ylabel='count'>"
      ]
     },
     "execution_count": 8,
     "metadata": {},
     "output_type": "execute_result"
    },
    {
     "data": {
      "image/png": "[encoded data removed]",
      "text/plain": [
       "<Figure size 640x480 with 1 Axes>"
      ]
     },
     "metadata": {},
     "output_type": "display_data"
    }
   ],
   "source": [
    "sns.countplot(x = train_df[label_column], orient = \"h\")"
   ]
  },
  {
   "cell_type": "markdown",
   "metadata": {},
   "source": [
    "# Data Preprocessing"
   ]
  },
  {
   "cell_type": "code",
   "execution_count": 9,
   "metadata": {
    "execution": {
     "iopub.execute_input": "2023-05-29T12:26:51.081060Z",
     "iopub.status.busy": "2023-05-29T12:26:51.080285Z",
     "iopub.status.idle": "2023-05-29T12:26:53.439672Z",
     "shell.execute_reply": "2023-05-29T12:26:53.438652Z",
     "shell.execute_reply.started": "2023-05-29T12:26:51.081032Z"
    }
   },
   "outputs": [],
   "source": [
    "train_df.drop(columns = ['MachineIdentifier'], inplace = True)"
   ]
  },
  {
   "cell_type": "code",
   "execution_count": 10,
   "metadata": {
    "execution": {
     "iopub.execute_input": "2023-05-29T12:28:22.821374Z",
     "iopub.status.busy": "2023-05-29T12:28:22.821018Z",
     "iopub.status.idle": "2023-05-29T12:28:22.832975Z",
     "shell.execute_reply": "2023-05-29T12:28:22.832012Z",
     "shell.execute_reply.started": "2023-05-29T12:28:22.821345Z"
    }
   },
   "outputs": [],
   "source": [
    "def categorical_preprocessing(df):\n",
    "    temp = df.copy()\n",
    "    \n",
    "    cols = temp.select_dtypes(include = [object]).columns.tolist()   \n",
    "    temp[cols] = temp[cols].astype(str).apply(lambda x: x.str.lower().apply(sys.intern))\n",
    "    \n",
    "    os_build_lab_cat = 'OsBuildLab'\n",
    "    if os_build_lab_cat in temp.columns:\n",
    "        os_build_lab_df = temp[os_build_lab_cat].str.split(pat = '.', n = 5, expand = True)\n",
    "        os_build_lab_df = os_build_lab_df.astype(str).apply(lambda x: x.str.lower().apply(sys.intern))\n",
    "        os_build_lab_df = os_build_lab_df.add_prefix(os_build_lab_cat + '_')\n",
    "        \n",
    "        temp = pd.concat([temp, os_build_lab_df], axis = 1)\n",
    "        temp = temp.drop(columns = os_build_lab_cat)\n",
    "    \n",
    "    smart_screen_cat = 'SmartScreen'\n",
    "    if smart_screen_cat in temp.columns:\n",
    "        temp.loc[temp[smart_screen_cat] == 'promt', smart_screen_cat] = 'prompt'\n",
    "        temp.loc[temp[smart_screen_cat] == '00000000', smart_screen_cat] = '0'\n",
    "        temp[smart_screen_cat] = temp[smart_screen_cat].astype(str).apply(sys.intern)\n",
    "        \n",
    "    disk_type_cat = 'Census_PrimaryDiskTypeName'\n",
    "    if disk_type_cat in temp.columns:\n",
    "        disk_types = ['HDD', 'SSD']\n",
    "        temp.loc[~temp[disk_type_cat].isin(disk_types), disk_type_cat] == 'na'                                \n",
    "        temp[disk_type_cat] = temp[disk_type_cat].astype(str).apply(sys.intern)\n",
    "        \n",
    "    role_name_cat = 'Census_PowerPlatformRoleName'\n",
    "    if role_name_cat in temp.columns:\n",
    "        na_types = ['unspecified', 'unknown', np.nan]\n",
    "        temp.loc[temp[role_name_cat].isin(na_types), role_name_cat] == 'na'                             \n",
    "        temp[role_name_cat] = temp[role_name_cat].astype(str).apply(sys.intern)\n",
    "    \n",
    "    return temp"
   ]
  },
  {
   "cell_type": "code",
   "execution_count": 11,
   "metadata": {
    "execution": {
     "iopub.execute_input": "2023-05-29T12:28:31.572295Z",
     "iopub.status.busy": "2023-05-29T12:28:31.571952Z",
     "iopub.status.idle": "2023-05-29T12:31:12.212426Z",
     "shell.execute_reply": "2023-05-29T12:31:12.211787Z",
     "shell.execute_reply.started": "2023-05-29T12:28:31.572266Z"
    }
   },
   "outputs": [
    {
     "data": {
      "text/html": [
       "<div>\n",
       "<style scoped>\n",
       "    .dataframe tbody tr th:only-of-type {\n",
       "        vertical-align: middle;\n",
       "    }\n",
       "\n",
       "    .dataframe tbody tr th {\n",
       "        vertical-align: top;\n",
       "    }\n",
       "\n",
       "    .dataframe thead th {\n",
       "        text-align: right;\n",
       "    }\n",
       "</style>\n",
       "<table border=\"1\" class=\"dataframe\">\n",
       "  <thead>\n",
       "    <tr style=\"text-align: right;\">\n",
       "      <th></th>\n",
       "      <th>ProductName</th>\n",
       "      <th>EngineVersion</th>\n",
       "      <th>AppVersion</th>\n",
       "      <th>AvSigVersion</th>\n",
       "      <th>RtpStateBitfield</th>\n",
       "      <th>IsSxsPassiveMode</th>\n",
       "      <th>AVProductStatesIdentifier</th>\n",
       "      <th>AVProductsInstalled</th>\n",
       "      <th>AVProductsEnabled</th>\n",
       "      <th>HasTpm</th>\n",
       "      <th>...</th>\n",
       "      <th>Census_FirmwareVersionIdentifier</th>\n",
       "      <th>Census_IsPenCapable</th>\n",
       "      <th>Wdft_IsGamer</th>\n",
       "      <th>Wdft_RegionIdentifier</th>\n",
       "      <th>HasDetections</th>\n",
       "      <th>OsBuildLab_0</th>\n",
       "      <th>OsBuildLab_1</th>\n",
       "      <th>OsBuildLab_2</th>\n",
       "      <th>OsBuildLab_3</th>\n",
       "      <th>OsBuildLab_4</th>\n",
       "    </tr>\n",
       "  </thead>\n",
       "  <tbody>\n",
       "    <tr>\n",
       "      <th>0</th>\n",
       "      <td>win8defender</td>\n",
       "      <td>1.1.15100.1</td>\n",
       "      <td>4.18.1807.18075</td>\n",
       "      <td>1.273.1735.0</td>\n",
       "      <td>7</td>\n",
       "      <td>0</td>\n",
       "      <td>53447.0</td>\n",
       "      <td>1.0</td>\n",
       "      <td>1.0</td>\n",
       "      <td>1</td>\n",
       "      <td>...</td>\n",
       "      <td>36144.0</td>\n",
       "      <td>0</td>\n",
       "      <td>0</td>\n",
       "      <td>10.0</td>\n",
       "      <td>0</td>\n",
       "      <td>17134</td>\n",
       "      <td>1</td>\n",
       "      <td>amd64fre</td>\n",
       "      <td>rs4_release</td>\n",
       "      <td>180410-1804</td>\n",
       "    </tr>\n",
       "    <tr>\n",
       "      <th>1</th>\n",
       "      <td>win8defender</td>\n",
       "      <td>1.1.14600.4</td>\n",
       "      <td>4.13.17134.1</td>\n",
       "      <td>1.263.48.0</td>\n",
       "      <td>7</td>\n",
       "      <td>0</td>\n",
       "      <td>53447.0</td>\n",
       "      <td>1.0</td>\n",
       "      <td>1.0</td>\n",
       "      <td>1</td>\n",
       "      <td>...</td>\n",
       "      <td>57858.0</td>\n",
       "      <td>0</td>\n",
       "      <td>0</td>\n",
       "      <td>8.0</td>\n",
       "      <td>0</td>\n",
       "      <td>17134</td>\n",
       "      <td>1</td>\n",
       "      <td>amd64fre</td>\n",
       "      <td>rs4_release</td>\n",
       "      <td>180410-1804</td>\n",
       "    </tr>\n",
       "    <tr>\n",
       "      <th>2</th>\n",
       "      <td>win8defender</td>\n",
       "      <td>1.1.15100.1</td>\n",
       "      <td>4.18.1807.18075</td>\n",
       "      <td>1.273.1341.0</td>\n",
       "      <td>7</td>\n",
       "      <td>0</td>\n",
       "      <td>53447.0</td>\n",
       "      <td>1.0</td>\n",
       "      <td>1.0</td>\n",
       "      <td>1</td>\n",
       "      <td>...</td>\n",
       "      <td>52682.0</td>\n",
       "      <td>0</td>\n",
       "      <td>0</td>\n",
       "      <td>3.0</td>\n",
       "      <td>0</td>\n",
       "      <td>17134</td>\n",
       "      <td>1</td>\n",
       "      <td>amd64fre</td>\n",
       "      <td>rs4_release</td>\n",
       "      <td>180410-1804</td>\n",
       "    </tr>\n",
       "    <tr>\n",
       "      <th>3</th>\n",
       "      <td>win8defender</td>\n",
       "      <td>1.1.15100.1</td>\n",
       "      <td>4.18.1807.18075</td>\n",
       "      <td>1.273.1527.0</td>\n",
       "      <td>7</td>\n",
       "      <td>0</td>\n",
       "      <td>53447.0</td>\n",
       "      <td>1.0</td>\n",
       "      <td>1.0</td>\n",
       "      <td>1</td>\n",
       "      <td>...</td>\n",
       "      <td>20050.0</td>\n",
       "      <td>0</td>\n",
       "      <td>0</td>\n",
       "      <td>3.0</td>\n",
       "      <td>1</td>\n",
       "      <td>17134</td>\n",
       "      <td>1</td>\n",
       "      <td>amd64fre</td>\n",
       "      <td>rs4_release</td>\n",
       "      <td>180410-1804</td>\n",
       "    </tr>\n",
       "    <tr>\n",
       "      <th>4</th>\n",
       "      <td>win8defender</td>\n",
       "      <td>1.1.15100.1</td>\n",
       "      <td>4.18.1807.18075</td>\n",
       "      <td>1.273.1379.0</td>\n",
       "      <td>7</td>\n",
       "      <td>0</td>\n",
       "      <td>53447.0</td>\n",
       "      <td>1.0</td>\n",
       "      <td>1.0</td>\n",
       "      <td>1</td>\n",
       "      <td>...</td>\n",
       "      <td>19844.0</td>\n",
       "      <td>0</td>\n",
       "      <td>0</td>\n",
       "      <td>1.0</td>\n",
       "      <td>1</td>\n",
       "      <td>17134</td>\n",
       "      <td>1</td>\n",
       "      <td>amd64fre</td>\n",
       "      <td>rs4_release</td>\n",
       "      <td>180410-1804</td>\n",
       "    </tr>\n",
       "  </tbody>\n",
       "</table>\n",
       "<p>5 rows × 64 columns</p>\n",
       "</div>"
      ],
      "text/plain": [
       "    ProductName EngineVersion       AppVersion  AvSigVersion  \\\n",
       "0  win8defender   1.1.15100.1  4.18.1807.18075  1.273.1735.0   \n",
       "1  win8defender   1.1.14600.4     4.13.17134.1    1.263.48.0   \n",
       "2  win8defender   1.1.15100.1  4.18.1807.18075  1.273.1341.0   \n",
       "3  win8defender   1.1.15100.1  4.18.1807.18075  1.273.1527.0   \n",
       "4  win8defender   1.1.15100.1  4.18.1807.18075  1.273.1379.0   \n",
       "\n",
       "   RtpStateBitfield  IsSxsPassiveMode  AVProductStatesIdentifier  \\\n",
       "0                 7                 0                    53447.0   \n",
       "1                 7                 0                    53447.0   \n",
       "2                 7                 0                    53447.0   \n",
       "3                 7                 0                    53447.0   \n",
       "4                 7                 0                    53447.0   \n",
       "\n",
       "   AVProductsInstalled  AVProductsEnabled  HasTpm  ...  \\\n",
       "0                  1.0                1.0       1  ...   \n",
       "1                  1.0                1.0       1  ...   \n",
       "2                  1.0                1.0       1  ...   \n",
       "3                  1.0                1.0       1  ...   \n",
       "4                  1.0                1.0       1  ...   \n",
       "\n",
       "   Census_FirmwareVersionIdentifier  Census_IsPenCapable  Wdft_IsGamer  \\\n",
       "0                           36144.0                    0             0   \n",
       "1                           57858.0                    0             0   \n",
       "2                           52682.0                    0             0   \n",
       "3                           20050.0                    0             0   \n",
       "4                           19844.0                    0             0   \n",
       "\n",
       "   Wdft_RegionIdentifier  HasDetections OsBuildLab_0 OsBuildLab_1  \\\n",
       "0                   10.0              0        17134            1   \n",
       "1                    8.0              0        17134            1   \n",
       "2                    3.0              0        17134            1   \n",
       "3                    3.0              1        17134            1   \n",
       "4                    1.0              1        17134            1   \n",
       "\n",
       "  OsBuildLab_2  OsBuildLab_3  OsBuildLab_4  \n",
       "0     amd64fre   rs4_release   180410-1804  \n",
       "1     amd64fre   rs4_release   180410-1804  \n",
       "2     amd64fre   rs4_release   180410-1804  \n",
       "3     amd64fre   rs4_release   180410-1804  \n",
       "4     amd64fre   rs4_release   180410-1804  \n",
       "\n",
       "[5 rows x 64 columns]"
      ]
     },
     "execution_count": 11,
     "metadata": {},
     "output_type": "execute_result"
    }
   ],
   "source": [
    "train_df = categorical_preprocessing(train_df)\n",
    "train_df.head()"
   ]
  },
  {
   "cell_type": "code",
   "execution_count": 12,
   "metadata": {
    "execution": {
     "iopub.execute_input": "2023-05-29T12:31:12.214624Z",
     "iopub.status.busy": "2023-05-29T12:31:12.213613Z",
     "iopub.status.idle": "2023-05-29T12:31:47.556455Z",
     "shell.execute_reply": "2023-05-29T12:31:47.555296Z",
     "shell.execute_reply.started": "2023-05-29T12:31:12.214600Z"
    }
   },
   "outputs": [
    {
     "name": "stdout",
     "output_type": "stream",
     "text": [
      "Duplicates in the training dataframe : 7727\n"
     ]
    }
   ],
   "source": [
    "print(\"Duplicates in the training dataframe :\",train_df.duplicated().sum())"
   ]
  },
  {
   "cell_type": "code",
   "execution_count": 13,
   "metadata": {
    "execution": {
     "iopub.execute_input": "2023-05-29T12:31:47.558674Z",
     "iopub.status.busy": "2023-05-29T12:31:47.558266Z",
     "iopub.status.idle": "2023-05-29T12:32:33.280896Z",
     "shell.execute_reply": "2023-05-29T12:32:33.279719Z",
     "shell.execute_reply.started": "2023-05-29T12:31:47.558643Z"
    }
   },
   "outputs": [],
   "source": [
    "train_df.drop_duplicates(inplace = True)"
   ]
  },
  {
   "cell_type": "code",
   "execution_count": 14,
   "metadata": {
    "execution": {
     "iopub.execute_input": "2023-05-29T12:32:33.284612Z",
     "iopub.status.busy": "2023-05-29T12:32:33.284196Z",
     "iopub.status.idle": "2023-05-29T12:32:33.290626Z",
     "shell.execute_reply": "2023-05-29T12:32:33.289441Z",
     "shell.execute_reply.started": "2023-05-29T12:32:33.284582Z"
    }
   },
   "outputs": [],
   "source": [
    "#Return label column and drop it from the training dataframe.\n",
    "y = train_df.pop(label_column)"
   ]
  },
  {
   "cell_type": "code",
   "execution_count": 15,
   "metadata": {
    "execution": {
     "iopub.execute_input": "2023-05-29T12:32:33.292785Z",
     "iopub.status.busy": "2023-05-29T12:32:33.292327Z",
     "iopub.status.idle": "2023-05-29T12:32:41.232246Z",
     "shell.execute_reply": "2023-05-29T12:32:41.230890Z",
     "shell.execute_reply.started": "2023-05-29T12:32:33.292754Z"
    }
   },
   "outputs": [],
   "source": [
    "string_columns = train_df.select_dtypes(include = 'object').columns\n",
    "not_string_columns = train_df.select_dtypes(exclude = 'object').columns"
   ]
  },
  {
   "cell_type": "code",
   "execution_count": 16,
   "metadata": {
    "execution": {
     "iopub.execute_input": "2023-05-29T12:32:41.235035Z",
     "iopub.status.busy": "2023-05-29T12:32:41.234630Z",
     "iopub.status.idle": "2023-05-29T12:34:42.764807Z",
     "shell.execute_reply": "2023-05-29T12:34:42.763806Z",
     "shell.execute_reply.started": "2023-05-29T12:32:41.234998Z"
    }
   },
   "outputs": [
    {
     "data": {
      "text/plain": [
       "ProductName         0\n",
       "EngineVersion       0\n",
       "AppVersion          0\n",
       "AvSigVersion        0\n",
       "RtpStateBitfield    0\n",
       "                   ..\n",
       "OsBuildLab_0        0\n",
       "OsBuildLab_1        0\n",
       "OsBuildLab_2        0\n",
       "OsBuildLab_3        0\n",
       "OsBuildLab_4        0\n",
       "Length: 63, dtype: int64"
      ]
     },
     "execution_count": 16,
     "metadata": {},
     "output_type": "execute_result"
    }
   ],
   "source": [
    "na_value = -1\n",
    "\n",
    "train_df[string_columns] = train_df[string_columns].fillna('na')\n",
    "train_df[not_string_columns] = train_df[not_string_columns].fillna(na_value)\n",
    "train_df.isna().sum()"
   ]
  },
  {
   "cell_type": "code",
   "execution_count": 17,
   "metadata": {
    "execution": {
     "iopub.execute_input": "2023-05-29T12:34:42.766728Z",
     "iopub.status.busy": "2023-05-29T12:34:42.766052Z",
     "iopub.status.idle": "2023-05-29T12:35:27.526973Z",
     "shell.execute_reply": "2023-05-29T12:35:27.524905Z",
     "shell.execute_reply.started": "2023-05-29T12:34:42.766701Z"
    }
   },
   "outputs": [],
   "source": [
    "X_train, X_val, y_train, y_val = train_test_split(train_df, y, test_size = 0.2, random_state = 42)"
   ]
  },
  {
   "cell_type": "code",
   "execution_count": 18,
   "metadata": {
    "execution": {
     "iopub.execute_input": "2023-05-29T12:35:27.529029Z",
     "iopub.status.busy": "2023-05-29T12:35:27.528700Z",
     "iopub.status.idle": "2023-05-29T12:35:28.387159Z",
     "shell.execute_reply": "2023-05-29T12:35:28.385843Z",
     "shell.execute_reply.started": "2023-05-29T12:35:27.528998Z"
    }
   },
   "outputs": [],
   "source": [
    "del train_df, y"
   ]
  },
  {
   "cell_type": "code",
   "execution_count": 19,
   "metadata": {
    "execution": {
     "iopub.execute_input": "2023-05-29T12:35:28.388891Z",
     "iopub.status.busy": "2023-05-29T12:35:28.388517Z",
     "iopub.status.idle": "2023-05-29T12:35:28.401052Z",
     "shell.execute_reply": "2023-05-29T12:35:28.400293Z",
     "shell.execute_reply.started": "2023-05-29T12:35:28.388861Z"
    }
   },
   "outputs": [],
   "source": [
    "cols = X_train.columns.tolist()"
   ]
  },
  {
   "cell_type": "markdown",
   "metadata": {},
   "source": [
    "**Ordinal Encoding**\n",
    "\n",
    "Encode the categorical features in our training data as an integer array.\n",
    "\n",
    "The input to ordinal transformer should be an array-like of integers or strings, denoting the values taken on by categorical (discrete) features. The features are converted to ordinal integers. This results in a single column of integers (0 to n_categories - 1) per feature."
   ]
  },
  {
   "cell_type": "code",
   "execution_count": 20,
   "metadata": {
    "execution": {
     "iopub.execute_input": "2023-05-29T12:35:28.405112Z",
     "iopub.status.busy": "2023-05-29T12:35:28.404787Z",
     "iopub.status.idle": "2023-05-29T12:37:05.326726Z",
     "shell.execute_reply": "2023-05-29T12:37:05.324898Z",
     "shell.execute_reply.started": "2023-05-29T12:35:28.405083Z"
    }
   },
   "outputs": [],
   "source": [
    "unknown_value = -100\n",
    "ord_enc = OrdinalEncoder(handle_unknown = 'use_encoded_value', dtype = 'int32', unknown_value = unknown_value)\n",
    "X_train_encoded = ord_enc.fit_transform(X_train)\n",
    "X_val_encoded = ord_enc.transform(X_val)"
   ]
  },
  {
   "cell_type": "code",
   "execution_count": 21,
   "metadata": {
    "execution": {
     "iopub.execute_input": "2023-05-29T12:37:05.329001Z",
     "iopub.status.busy": "2023-05-29T12:37:05.328665Z",
     "iopub.status.idle": "2023-05-29T12:37:05.725339Z",
     "shell.execute_reply": "2023-05-29T12:37:05.724167Z",
     "shell.execute_reply.started": "2023-05-29T12:37:05.328972Z"
    }
   },
   "outputs": [],
   "source": [
    "maximum_values = X_train_encoded.max(axis = 0) + 1\n",
    "X_val_encoded = np.where(X_val_encoded == unknown_value, maximum_values, X_val_encoded)"
   ]
  },
  {
   "cell_type": "code",
   "execution_count": 22,
   "metadata": {
    "execution": {
     "iopub.execute_input": "2023-05-29T12:37:05.729179Z",
     "iopub.status.busy": "2023-05-29T12:37:05.726748Z",
     "iopub.status.idle": "2023-05-29T12:37:06.804846Z",
     "shell.execute_reply": "2023-05-29T12:37:06.803668Z",
     "shell.execute_reply.started": "2023-05-29T12:37:05.729128Z"
    }
   },
   "outputs": [],
   "source": [
    "del X_train, X_val"
   ]
  },
  {
   "cell_type": "markdown",
   "metadata": {},
   "source": [
    "# Modelling"
   ]
  },
  {
   "cell_type": "code",
   "execution_count": 23,
   "metadata": {
    "execution": {
     "iopub.execute_input": "2023-05-29T12:37:06.807035Z",
     "iopub.status.busy": "2023-05-29T12:37:06.806547Z",
     "iopub.status.idle": "2023-05-29T12:37:08.419209Z",
     "shell.execute_reply": "2023-05-29T12:37:08.417945Z",
     "shell.execute_reply.started": "2023-05-29T12:37:06.806997Z"
    }
   },
   "outputs": [],
   "source": [
    "X_sample, _, y_sample, _ = train_test_split(X_train_encoded, y_train, train_size = 0.1, random_state = 42)"
   ]
  },
  {
   "cell_type": "code",
   "execution_count": 24,
   "metadata": {
    "execution": {
     "iopub.execute_input": "2023-05-29T12:37:08.421216Z",
     "iopub.status.busy": "2023-05-29T12:37:08.420759Z",
     "iopub.status.idle": "2023-05-29T13:41:17.157798Z",
     "shell.execute_reply": "2023-05-29T13:41:17.155599Z",
     "shell.execute_reply.started": "2023-05-29T12:37:08.421177Z"
    }
   },
   "outputs": [
    {
     "name": "stdout",
     "output_type": "stream",
     "text": [
      "Fitting 5 folds for each of 16 candidates, totalling 80 fits\n",
      "[CV] END colsample_bytree=0.6, max_depth=7, n_estimators=500, num_leaves=70; total time=  41.6s\n",
      "[CV] END colsample_bytree=0.6, max_depth=7, n_estimators=500, num_leaves=70; total time=  42.0s\n",
      "[CV] END colsample_bytree=0.6, max_depth=7, n_estimators=500, num_leaves=70; total time=  42.6s\n",
      "[CV] END colsample_bytree=0.6, max_depth=7, n_estimators=500, num_leaves=70; total time=  42.6s\n",
      "[CV] END colsample_bytree=0.6, max_depth=7, n_estimators=500, num_leaves=70; total time=  41.1s\n",
      "[CV] END colsample_bytree=0.6, max_depth=7, n_estimators=500, num_leaves=80; total time=  43.5s\n",
      "[CV] END colsample_bytree=0.6, max_depth=7, n_estimators=500, num_leaves=80; total time=  43.5s\n",
      "[CV] END colsample_bytree=0.6, max_depth=7, n_estimators=500, num_leaves=80; total time=  42.8s\n",
      "[CV] END colsample_bytree=0.6, max_depth=7, n_estimators=500, num_leaves=80; total time=  43.9s\n",
      "[CV] END colsample_bytree=0.6, max_depth=7, n_estimators=500, num_leaves=80; total time=  42.9s\n",
      "[CV] END colsample_bytree=0.6, max_depth=7, n_estimators=600, num_leaves=70; total time=  48.2s\n",
      "[CV] END colsample_bytree=0.6, max_depth=7, n_estimators=600, num_leaves=70; total time=  48.4s\n",
      "[CV] END colsample_bytree=0.6, max_depth=7, n_estimators=600, num_leaves=70; total time=  49.0s\n",
      "[CV] END colsample_bytree=0.6, max_depth=7, n_estimators=600, num_leaves=70; total time=  53.1s\n",
      "[CV] END colsample_bytree=0.6, max_depth=7, n_estimators=600, num_leaves=70; total time=  48.9s\n",
      "[CV] END colsample_bytree=0.6, max_depth=7, n_estimators=600, num_leaves=80; total time=  51.6s\n",
      "[CV] END colsample_bytree=0.6, max_depth=7, n_estimators=600, num_leaves=80; total time=  50.8s\n",
      "[CV] END colsample_bytree=0.6, max_depth=7, n_estimators=600, num_leaves=80; total time=  51.6s\n",
      "[CV] END colsample_bytree=0.6, max_depth=7, n_estimators=600, num_leaves=80; total time=  51.2s\n",
      "[CV] END colsample_bytree=0.6, max_depth=7, n_estimators=600, num_leaves=80; total time=  50.5s\n",
      "[CV] END colsample_bytree=0.6, max_depth=8, n_estimators=500, num_leaves=70; total time=  41.9s\n",
      "[CV] END colsample_bytree=0.6, max_depth=8, n_estimators=500, num_leaves=70; total time=  41.1s\n",
      "[CV] END colsample_bytree=0.6, max_depth=8, n_estimators=500, num_leaves=70; total time=  40.7s\n",
      "[CV] END colsample_bytree=0.6, max_depth=8, n_estimators=500, num_leaves=70; total time=  42.0s\n",
      "[CV] END colsample_bytree=0.6, max_depth=8, n_estimators=500, num_leaves=70; total time=  40.8s\n",
      "[CV] END colsample_bytree=0.6, max_depth=8, n_estimators=500, num_leaves=80; total time=  43.1s\n",
      "[CV] END colsample_bytree=0.6, max_depth=8, n_estimators=500, num_leaves=80; total time=  43.5s\n",
      "[CV] END colsample_bytree=0.6, max_depth=8, n_estimators=500, num_leaves=80; total time=  42.8s\n",
      "[CV] END colsample_bytree=0.6, max_depth=8, n_estimators=500, num_leaves=80; total time=  43.6s\n",
      "[CV] END colsample_bytree=0.6, max_depth=8, n_estimators=500, num_leaves=80; total time=  42.6s\n",
      "[CV] END colsample_bytree=0.6, max_depth=8, n_estimators=600, num_leaves=70; total time=  48.0s\n",
      "[CV] END colsample_bytree=0.6, max_depth=8, n_estimators=600, num_leaves=70; total time=  48.4s\n",
      "[CV] END colsample_bytree=0.6, max_depth=8, n_estimators=600, num_leaves=70; total time=  48.3s\n",
      "[CV] END colsample_bytree=0.6, max_depth=8, n_estimators=600, num_leaves=70; total time=  48.1s\n",
      "[CV] END colsample_bytree=0.6, max_depth=8, n_estimators=600, num_leaves=70; total time=  48.8s\n",
      "[CV] END colsample_bytree=0.6, max_depth=8, n_estimators=600, num_leaves=80; total time=  50.9s\n",
      "[CV] END colsample_bytree=0.6, max_depth=8, n_estimators=600, num_leaves=80; total time=  51.4s\n",
      "[CV] END colsample_bytree=0.6, max_depth=8, n_estimators=600, num_leaves=80; total time=  50.8s\n",
      "[CV] END colsample_bytree=0.6, max_depth=8, n_estimators=600, num_leaves=80; total time=  50.9s\n",
      "[CV] END colsample_bytree=0.6, max_depth=8, n_estimators=600, num_leaves=80; total time=  51.0s\n",
      "[CV] END colsample_bytree=0.7, max_depth=7, n_estimators=500, num_leaves=70; total time=  44.0s\n",
      "[CV] END colsample_bytree=0.7, max_depth=7, n_estimators=500, num_leaves=70; total time=  44.7s\n",
      "[CV] END colsample_bytree=0.7, max_depth=7, n_estimators=500, num_leaves=70; total time=  43.4s\n",
      "[CV] END colsample_bytree=0.7, max_depth=7, n_estimators=500, num_leaves=70; total time=  44.4s\n",
      "[CV] END colsample_bytree=0.7, max_depth=7, n_estimators=500, num_leaves=70; total time=  44.0s\n",
      "[CV] END colsample_bytree=0.7, max_depth=7, n_estimators=500, num_leaves=80; total time=  46.6s\n",
      "[CV] END colsample_bytree=0.7, max_depth=7, n_estimators=500, num_leaves=80; total time=  46.0s\n",
      "[CV] END colsample_bytree=0.7, max_depth=7, n_estimators=500, num_leaves=80; total time=  45.5s\n",
      "[CV] END colsample_bytree=0.7, max_depth=7, n_estimators=500, num_leaves=80; total time=  45.6s\n",
      "[CV] END colsample_bytree=0.7, max_depth=7, n_estimators=500, num_leaves=80; total time=  45.7s\n",
      "[CV] END colsample_bytree=0.7, max_depth=7, n_estimators=600, num_leaves=70; total time=  51.5s\n",
      "[CV] END colsample_bytree=0.7, max_depth=7, n_estimators=600, num_leaves=70; total time=  52.0s\n",
      "[CV] END colsample_bytree=0.7, max_depth=7, n_estimators=600, num_leaves=70; total time=  51.1s\n",
      "[CV] END colsample_bytree=0.7, max_depth=7, n_estimators=600, num_leaves=70; total time=  50.4s\n",
      "[CV] END colsample_bytree=0.7, max_depth=7, n_estimators=600, num_leaves=70; total time=  51.6s\n",
      "[CV] END colsample_bytree=0.7, max_depth=7, n_estimators=600, num_leaves=80; total time=  54.7s\n",
      "[CV] END colsample_bytree=0.7, max_depth=7, n_estimators=600, num_leaves=80; total time=  54.2s\n",
      "[CV] END colsample_bytree=0.7, max_depth=7, n_estimators=600, num_leaves=80; total time=  53.6s\n",
      "[CV] END colsample_bytree=0.7, max_depth=7, n_estimators=600, num_leaves=80; total time=  53.8s\n",
      "[CV] END colsample_bytree=0.7, max_depth=7, n_estimators=600, num_leaves=80; total time=  53.6s\n",
      "[CV] END colsample_bytree=0.7, max_depth=8, n_estimators=500, num_leaves=70; total time=  43.4s\n",
      "[CV] END colsample_bytree=0.7, max_depth=8, n_estimators=500, num_leaves=70; total time=  43.6s\n",
      "[CV] END colsample_bytree=0.7, max_depth=8, n_estimators=500, num_leaves=70; total time=  44.1s\n",
      "[CV] END colsample_bytree=0.7, max_depth=8, n_estimators=500, num_leaves=70; total time=  43.3s\n",
      "[CV] END colsample_bytree=0.7, max_depth=8, n_estimators=500, num_leaves=70; total time=  43.9s\n",
      "[CV] END colsample_bytree=0.7, max_depth=8, n_estimators=500, num_leaves=80; total time=  45.1s\n",
      "[CV] END colsample_bytree=0.7, max_depth=8, n_estimators=500, num_leaves=80; total time=  45.5s\n",
      "[CV] END colsample_bytree=0.7, max_depth=8, n_estimators=500, num_leaves=80; total time=  45.0s\n",
      "[CV] END colsample_bytree=0.7, max_depth=8, n_estimators=500, num_leaves=80; total time=  46.3s\n",
      "[CV] END colsample_bytree=0.7, max_depth=8, n_estimators=500, num_leaves=80; total time=  45.8s\n",
      "[CV] END colsample_bytree=0.7, max_depth=8, n_estimators=600, num_leaves=70; total time=  51.6s\n",
      "[CV] END colsample_bytree=0.7, max_depth=8, n_estimators=600, num_leaves=70; total time=  49.8s\n",
      "[CV] END colsample_bytree=0.7, max_depth=8, n_estimators=600, num_leaves=70; total time=  50.5s\n",
      "[CV] END colsample_bytree=0.7, max_depth=8, n_estimators=600, num_leaves=70; total time=  50.6s\n",
      "[CV] END colsample_bytree=0.7, max_depth=8, n_estimators=600, num_leaves=70; total time=  50.5s\n",
      "[CV] END colsample_bytree=0.7, max_depth=8, n_estimators=600, num_leaves=80; total time=  53.2s\n",
      "[CV] END colsample_bytree=0.7, max_depth=8, n_estimators=600, num_leaves=80; total time=  53.2s\n",
      "[CV] END colsample_bytree=0.7, max_depth=8, n_estimators=600, num_leaves=80; total time=  52.5s\n",
      "[CV] END colsample_bytree=0.7, max_depth=8, n_estimators=600, num_leaves=80; total time=  53.6s\n",
      "[CV] END colsample_bytree=0.7, max_depth=8, n_estimators=600, num_leaves=80; total time=  53.4s\n"
     ]
    },
    {
     "data": {
      "text/html": [
       "<style>#sk-container-id-1 {color: black;background-color: white;}#sk-container-id-1 pre{padding: 0;}#sk-container-id-1 div.sk-toggleable {background-color: white;}#sk-container-id-1 label.sk-toggleable__label {cursor: pointer;display: block;width: 100%;margin-bottom: 0;padding: 0.3em;box-sizing: border-box;text-align: center;}#sk-container-id-1 label.sk-toggleable__label-arrow:before {content: \"▸\";float: left;margin-right: 0.25em;color: #696969;}#sk-container-id-1 label.sk-toggleable__label-arrow:hover:before {color: black;}#sk-container-id-1 div.sk-estimator:hover label.sk-toggleable__label-arrow:before {color: black;}#sk-container-id-1 div.sk-toggleable__content {max-height: 0;max-width: 0;overflow: hidden;text-align: left;background-color: #f0f8ff;}#sk-container-id-1 div.sk-toggleable__content pre {margin: 0.2em;color: black;border-radius: 0.25em;background-color: #f0f8ff;}#sk-container-id-1 input.sk-toggleable__control:checked~div.sk-toggleable__content {max-height: 200px;max-width: 100%;overflow: auto;}#sk-container-id-1 input.sk-toggleable__control:checked~label.sk-toggleable__label-arrow:before {content: \"▾\";}#sk-container-id-1 div.sk-estimator input.sk-toggleable__control:checked~label.sk-toggleable__label {background-color: #d4ebff;}#sk-container-id-1 div.sk-label input.sk-toggleable__control:checked~label.sk-toggleable__label {background-color: #d4ebff;}#sk-container-id-1 input.sk-hidden--visually {border: 0;clip: rect(1px 1px 1px 1px);clip: rect(1px, 1px, 1px, 1px);height: 1px;margin: -1px;overflow: hidden;padding: 0;position: absolute;width: 1px;}#sk-container-id-1 div.sk-estimator {font-family: monospace;background-color: #f0f8ff;border: 1px dotted black;border-radius: 0.25em;box-sizing: border-box;margin-bottom: 0.5em;}#sk-container-id-1 div.sk-estimator:hover {background-color: #d4ebff;}#sk-container-id-1 div.sk-parallel-item::after {content: \"\";width: 100%;border-bottom: 1px solid gray;flex-grow: 1;}#sk-container-id-1 div.sk-label:hover label.sk-toggleable__label {background-color: #d4ebff;}#sk-container-id-1 div.sk-serial::before {content: \"\";position: absolute;border-left: 1px solid gray;box-sizing: border-box;top: 0;bottom: 0;left: 50%;z-index: 0;}#sk-container-id-1 div.sk-serial {display: flex;flex-direction: column;align-items: center;background-color: white;padding-right: 0.2em;padding-left: 0.2em;position: relative;}#sk-container-id-1 div.sk-item {position: relative;z-index: 1;}#sk-container-id-1 div.sk-parallel {display: flex;align-items: stretch;justify-content: center;background-color: white;position: relative;}#sk-container-id-1 div.sk-item::before, #sk-container-id-1 div.sk-parallel-item::before {content: \"\";position: absolute;border-left: 1px solid gray;box-sizing: border-box;top: 0;bottom: 0;left: 50%;z-index: -1;}#sk-container-id-1 div.sk-parallel-item {display: flex;flex-direction: column;z-index: 1;position: relative;background-color: white;}#sk-container-id-1 div.sk-parallel-item:first-child::after {align-self: flex-end;width: 50%;}#sk-container-id-1 div.sk-parallel-item:last-child::after {align-self: flex-start;width: 50%;}#sk-container-id-1 div.sk-parallel-item:only-child::after {width: 0;}#sk-container-id-1 div.sk-dashed-wrapped {border: 1px dashed gray;margin: 0 0.4em 0.5em 0.4em;box-sizing: border-box;padding-bottom: 0.4em;background-color: white;}#sk-container-id-1 div.sk-label label {font-family: monospace;font-weight: bold;display: inline-block;line-height: 1.2em;}#sk-container-id-1 div.sk-label-container {text-align: center;}#sk-container-id-1 div.sk-container {/* jupyter's `normalize.less` sets `[hidden] { display: none; }` but bootstrap.min.css set `[hidden] { display: none !important; }` so we also need the `!important` here to be able to override the default hidden behavior on the sphinx rendered scikit-learn.org. See: https://github.com/scikit-learn/scikit-learn/issues/21755 */display: inline-block !important;position: relative;}#sk-container-id-1 div.sk-text-repr-fallback {display: none;}</style><div id=\"sk-container-id-1\" class=\"sk-top-container\"><div class=\"sk-text-repr-fallback\"><pre>GridSearchCV(estimator=LGBMClassifier(),\n",
       "             param_grid={&#x27;colsample_bytree&#x27;: [0.6, 0.7], &#x27;max_depth&#x27;: [7, 8],\n",
       "                         &#x27;n_estimators&#x27;: [500, 600], &#x27;num_leaves&#x27;: [70, 80]},\n",
       "             verbose=2)</pre><b>In a Jupyter environment, please rerun this cell to show the HTML representation or trust the notebook. <br />On GitHub, the HTML representation is unable to render, please try loading this page with nbviewer.org.</b></div><div class=\"sk-container\" hidden><div class=\"sk-item sk-dashed-wrapped\"><div class=\"sk-label-container\"><div class=\"sk-label sk-toggleable\"><input class=\"sk-toggleable__control sk-hidden--visually\" id=\"sk-estimator-id-1\" type=\"checkbox\" ><label for=\"sk-estimator-id-1\" class=\"sk-toggleable__label sk-toggleable__label-arrow\">GridSearchCV</label><div class=\"sk-toggleable__content\"><pre>GridSearchCV(estimator=LGBMClassifier(),\n",
       "             param_grid={&#x27;colsample_bytree&#x27;: [0.6, 0.7], &#x27;max_depth&#x27;: [7, 8],\n",
       "                         &#x27;n_estimators&#x27;: [500, 600], &#x27;num_leaves&#x27;: [70, 80]},\n",
       "             verbose=2)</pre></div></div></div><div class=\"sk-parallel\"><div class=\"sk-parallel-item\"><div class=\"sk-item\"><div class=\"sk-label-container\"><div class=\"sk-label sk-toggleable\"><input class=\"sk-toggleable__control sk-hidden--visually\" id=\"sk-estimator-id-2\" type=\"checkbox\" ><label for=\"sk-estimator-id-2\" class=\"sk-toggleable__label sk-toggleable__label-arrow\">estimator: LGBMClassifier</label><div class=\"sk-toggleable__content\"><pre>LGBMClassifier()</pre></div></div></div><div class=\"sk-serial\"><div class=\"sk-item\"><div class=\"sk-estimator sk-toggleable\"><input class=\"sk-toggleable__control sk-hidden--visually\" id=\"sk-estimator-id-3\" type=\"checkbox\" ><label for=\"sk-estimator-id-3\" class=\"sk-toggleable__label sk-toggleable__label-arrow\">LGBMClassifier</label><div class=\"sk-toggleable__content\"><pre>LGBMClassifier()</pre></div></div></div></div></div></div></div></div></div></div>"
      ],
      "text/plain": [
       "GridSearchCV(estimator=LGBMClassifier(),\n",
       "             param_grid={'colsample_bytree': [0.6, 0.7], 'max_depth': [7, 8],\n",
       "                         'n_estimators': [500, 600], 'num_leaves': [70, 80]},\n",
       "             verbose=2)"
      ]
     },
     "execution_count": 24,
     "metadata": {},
     "output_type": "execute_result"
    }
   ],
   "source": [
    "parameters = {\n",
    "              'n_estimators' : [500, 600], 'max_depth' : [7, 8],\n",
    "              'colsample_bytree' : [0.6, 0.7], 'num_leaves' : [70, 80]\n",
    "             }\n",
    "\n",
    "clf = lgb.LGBMClassifier(learning_rate = 0.1)\n",
    "grid_search_clf = GridSearchCV(clf, parameters, verbose = 2)\n",
    "grid_search_clf.fit(X_sample, y_sample)"
   ]
  },
  {
   "cell_type": "code",
   "execution_count": 25,
   "metadata": {
    "execution": {
     "iopub.execute_input": "2023-05-29T13:41:17.160879Z",
     "iopub.status.busy": "2023-05-29T13:41:17.159892Z",
     "iopub.status.idle": "2023-05-29T13:41:17.174381Z",
     "shell.execute_reply": "2023-05-29T13:41:17.173297Z",
     "shell.execute_reply.started": "2023-05-29T13:41:17.160853Z"
    }
   },
   "outputs": [
    {
     "name": "stdout",
     "output_type": "stream",
     "text": [
      "These are the best parameters from grid search -\n"
     ]
    },
    {
     "data": {
      "text/plain": [
       "{'colsample_bytree': 0.6,\n",
       " 'max_depth': 7,\n",
       " 'n_estimators': 600,\n",
       " 'num_leaves': 80}"
      ]
     },
     "execution_count": 25,
     "metadata": {},
     "output_type": "execute_result"
    }
   ],
   "source": [
    "print(\"These are the best parameters from grid search -\")\n",
    "grid_search_clf.best_params_"
   ]
  },
  {
   "cell_type": "markdown",
   "metadata": {},
   "source": [
    "**Grid Searching the best parameters for our Light Gradient Boosting Model, this would enable us to get the best score on the test set**"
   ]
  },
  {
   "cell_type": "code",
   "execution_count": 26,
   "metadata": {
    "execution": {
     "iopub.execute_input": "2023-05-29T13:41:17.176650Z",
     "iopub.status.busy": "2023-05-29T13:41:17.176253Z",
     "iopub.status.idle": "2023-05-29T13:41:17.187040Z",
     "shell.execute_reply": "2023-05-29T13:41:17.186287Z",
     "shell.execute_reply.started": "2023-05-29T13:41:17.176617Z"
    }
   },
   "outputs": [],
   "source": [
    "clf_lgbm = grid_search_clf.best_estimator_"
   ]
  },
  {
   "cell_type": "code",
   "execution_count": 27,
   "metadata": {
    "execution": {
     "iopub.execute_input": "2023-05-29T13:41:17.188963Z",
     "iopub.status.busy": "2023-05-29T13:41:17.188247Z",
     "iopub.status.idle": "2023-05-29T13:58:56.612859Z",
     "shell.execute_reply": "2023-05-29T13:58:56.612009Z",
     "shell.execute_reply.started": "2023-05-29T13:41:17.188937Z"
    }
   },
   "outputs": [
    {
     "name": "stdout",
     "output_type": "stream",
     "text": [
      "Training until validation scores don't improve for 5 rounds\n",
      "[50]\ttrain's auc: 0.707538\ttrain's binary_logloss: 0.620041\tval's auc: 0.707239\tval's binary_logloss: 0.620295\n",
      "[100]\ttrain's auc: 0.716732\ttrain's binary_logloss: 0.613391\tval's auc: 0.71605\tval's binary_logloss: 0.613876\n",
      "[150]\ttrain's auc: 0.721677\ttrain's binary_logloss: 0.609754\tval's auc: 0.720625\tval's binary_logloss: 0.610501\n",
      "[200]\ttrain's auc: 0.7248\ttrain's binary_logloss: 0.607351\tval's auc: 0.72336\tval's binary_logloss: 0.608375\n",
      "[250]\ttrain's auc: 0.727236\ttrain's binary_logloss: 0.605482\tval's auc: 0.725456\tval's binary_logloss: 0.60676\n",
      "[300]\ttrain's auc: 0.72958\ttrain's binary_logloss: 0.603606\tval's auc: 0.727449\tval's binary_logloss: 0.605148\n",
      "[350]\ttrain's auc: 0.731211\ttrain's binary_logloss: 0.602302\tval's auc: 0.728711\tval's binary_logloss: 0.604111\n",
      "[400]\ttrain's auc: 0.732845\ttrain's binary_logloss: 0.601027\tval's auc: 0.730004\tval's binary_logloss: 0.6031\n",
      "[450]\ttrain's auc: 0.734041\ttrain's binary_logloss: 0.60007\tval's auc: 0.730826\tval's binary_logloss: 0.60242\n",
      "[500]\ttrain's auc: 0.7352\ttrain's binary_logloss: 0.599145\tval's auc: 0.731623\tval's binary_logloss: 0.601773\n",
      "[550]\ttrain's auc: 0.736174\ttrain's binary_logloss: 0.59836\tval's auc: 0.732261\tval's binary_logloss: 0.601252\n",
      "[600]\ttrain's auc: 0.737017\ttrain's binary_logloss: 0.59769\tval's auc: 0.732733\tval's binary_logloss: 0.600866\n",
      "Did not meet early stopping. Best iteration is:\n",
      "[600]\ttrain's auc: 0.737017\ttrain's binary_logloss: 0.59769\tval's auc: 0.732733\tval's binary_logloss: 0.600866\n"
     ]
    },
    {
     "data": {
      "text/html": [
       "<style>#sk-container-id-2 {color: black;background-color: white;}#sk-container-id-2 pre{padding: 0;}#sk-container-id-2 div.sk-toggleable {background-color: white;}#sk-container-id-2 label.sk-toggleable__label {cursor: pointer;display: block;width: 100%;margin-bottom: 0;padding: 0.3em;box-sizing: border-box;text-align: center;}#sk-container-id-2 label.sk-toggleable__label-arrow:before {content: \"▸\";float: left;margin-right: 0.25em;color: #696969;}#sk-container-id-2 label.sk-toggleable__label-arrow:hover:before {color: black;}#sk-container-id-2 div.sk-estimator:hover label.sk-toggleable__label-arrow:before {color: black;}#sk-container-id-2 div.sk-toggleable__content {max-height: 0;max-width: 0;overflow: hidden;text-align: left;background-color: #f0f8ff;}#sk-container-id-2 div.sk-toggleable__content pre {margin: 0.2em;color: black;border-radius: 0.25em;background-color: #f0f8ff;}#sk-container-id-2 input.sk-toggleable__control:checked~div.sk-toggleable__content {max-height: 200px;max-width: 100%;overflow: auto;}#sk-container-id-2 input.sk-toggleable__control:checked~label.sk-toggleable__label-arrow:before {content: \"▾\";}#sk-container-id-2 div.sk-estimator input.sk-toggleable__control:checked~label.sk-toggleable__label {background-color: #d4ebff;}#sk-container-id-2 div.sk-label input.sk-toggleable__control:checked~label.sk-toggleable__label {background-color: #d4ebff;}#sk-container-id-2 input.sk-hidden--visually {border: 0;clip: rect(1px 1px 1px 1px);clip: rect(1px, 1px, 1px, 1px);height: 1px;margin: -1px;overflow: hidden;padding: 0;position: absolute;width: 1px;}#sk-container-id-2 div.sk-estimator {font-family: monospace;background-color: #f0f8ff;border: 1px dotted black;border-radius: 0.25em;box-sizing: border-box;margin-bottom: 0.5em;}#sk-container-id-2 div.sk-estimator:hover {background-color: #d4ebff;}#sk-container-id-2 div.sk-parallel-item::after {content: \"\";width: 100%;border-bottom: 1px solid gray;flex-grow: 1;}#sk-container-id-2 div.sk-label:hover label.sk-toggleable__label {background-color: #d4ebff;}#sk-container-id-2 div.sk-serial::before {content: \"\";position: absolute;border-left: 1px solid gray;box-sizing: border-box;top: 0;bottom: 0;left: 50%;z-index: 0;}#sk-container-id-2 div.sk-serial {display: flex;flex-direction: column;align-items: center;background-color: white;padding-right: 0.2em;padding-left: 0.2em;position: relative;}#sk-container-id-2 div.sk-item {position: relative;z-index: 1;}#sk-container-id-2 div.sk-parallel {display: flex;align-items: stretch;justify-content: center;background-color: white;position: relative;}#sk-container-id-2 div.sk-item::before, #sk-container-id-2 div.sk-parallel-item::before {content: \"\";position: absolute;border-left: 1px solid gray;box-sizing: border-box;top: 0;bottom: 0;left: 50%;z-index: -1;}#sk-container-id-2 div.sk-parallel-item {display: flex;flex-direction: column;z-index: 1;position: relative;background-color: white;}#sk-container-id-2 div.sk-parallel-item:first-child::after {align-self: flex-end;width: 50%;}#sk-container-id-2 div.sk-parallel-item:last-child::after {align-self: flex-start;width: 50%;}#sk-container-id-2 div.sk-parallel-item:only-child::after {width: 0;}#sk-container-id-2 div.sk-dashed-wrapped {border: 1px dashed gray;margin: 0 0.4em 0.5em 0.4em;box-sizing: border-box;padding-bottom: 0.4em;background-color: white;}#sk-container-id-2 div.sk-label label {font-family: monospace;font-weight: bold;display: inline-block;line-height: 1.2em;}#sk-container-id-2 div.sk-label-container {text-align: center;}#sk-container-id-2 div.sk-container {/* jupyter's `normalize.less` sets `[hidden] { display: none; }` but bootstrap.min.css set `[hidden] { display: none !important; }` so we also need the `!important` here to be able to override the default hidden behavior on the sphinx rendered scikit-learn.org. See: https://github.com/scikit-learn/scikit-learn/issues/21755 */display: inline-block !important;position: relative;}#sk-container-id-2 div.sk-text-repr-fallback {display: none;}</style><div id=\"sk-container-id-2\" class=\"sk-top-container\"><div class=\"sk-text-repr-fallback\"><pre>LGBMClassifier(colsample_bytree=0.6, max_depth=7, n_estimators=600,\n",
       "               num_leaves=80)</pre><b>In a Jupyter environment, please rerun this cell to show the HTML representation or trust the notebook. <br />On GitHub, the HTML representation is unable to render, please try loading this page with nbviewer.org.</b></div><div class=\"sk-container\" hidden><div class=\"sk-item\"><div class=\"sk-estimator sk-toggleable\"><input class=\"sk-toggleable__control sk-hidden--visually\" id=\"sk-estimator-id-4\" type=\"checkbox\" checked><label for=\"sk-estimator-id-4\" class=\"sk-toggleable__label sk-toggleable__label-arrow\">LGBMClassifier</label><div class=\"sk-toggleable__content\"><pre>LGBMClassifier(colsample_bytree=0.6, max_depth=7, n_estimators=600,\n",
       "               num_leaves=80)</pre></div></div></div></div></div>"
      ],
      "text/plain": [
       "LGBMClassifier(colsample_bytree=0.6, max_depth=7, n_estimators=600,\n",
       "               num_leaves=80)"
      ]
     },
     "execution_count": 27,
     "metadata": {},
     "output_type": "execute_result"
    }
   ],
   "source": [
    "clf_lgbm.fit(X_train_encoded, y_train,\n",
    "           eval_set = [(X_train_encoded, y_train), (X_val_encoded, y_val)],\n",
    "           eval_names = ['train', 'val'],\n",
    "           eval_metric ='auc',\n",
    "           callbacks = [lgb.log_evaluation(50), lgb.early_stopping(5)])"
   ]
  },
  {
   "cell_type": "code",
   "execution_count": 28,
   "metadata": {
    "execution": {
     "iopub.execute_input": "2023-05-29T13:58:56.614460Z",
     "iopub.status.busy": "2023-05-29T13:58:56.614201Z",
     "iopub.status.idle": "2023-05-29T13:58:56.662500Z",
     "shell.execute_reply": "2023-05-29T13:58:56.661514Z",
     "shell.execute_reply.started": "2023-05-29T13:58:56.614439Z"
    }
   },
   "outputs": [],
   "source": [
    "del y_train, y_val, X_train_encoded, X_val_encoded"
   ]
  },
  {
   "cell_type": "markdown",
   "metadata": {},
   "source": [
    "# Testing Phase\n"
   ]
  },
  {
   "cell_type": "code",
   "execution_count": 29,
   "metadata": {
    "execution": {
     "iopub.execute_input": "2023-05-29T13:58:56.664059Z",
     "iopub.status.busy": "2023-05-29T13:58:56.663830Z",
     "iopub.status.idle": "2023-05-29T14:01:36.471000Z",
     "shell.execute_reply": "2023-05-29T14:01:36.470115Z",
     "shell.execute_reply.started": "2023-05-29T13:58:56.664037Z"
    }
   },
   "outputs": [
    {
     "data": {
      "text/html": [
       "<div>\n",
       "<style scoped>\n",
       "    .dataframe tbody tr th:only-of-type {\n",
       "        vertical-align: middle;\n",
       "    }\n",
       "\n",
       "    .dataframe tbody tr th {\n",
       "        vertical-align: top;\n",
       "    }\n",
       "\n",
       "    .dataframe thead th {\n",
       "        text-align: right;\n",
       "    }\n",
       "</style>\n",
       "<table border=\"1\" class=\"dataframe\">\n",
       "  <thead>\n",
       "    <tr style=\"text-align: right;\">\n",
       "      <th></th>\n",
       "      <th>MachineIdentifier</th>\n",
       "      <th>ProductName</th>\n",
       "      <th>EngineVersion</th>\n",
       "      <th>AppVersion</th>\n",
       "      <th>AvSigVersion</th>\n",
       "      <th>RtpStateBitfield</th>\n",
       "      <th>IsSxsPassiveMode</th>\n",
       "      <th>AVProductStatesIdentifier</th>\n",
       "      <th>AVProductsInstalled</th>\n",
       "      <th>AVProductsEnabled</th>\n",
       "      <th>...</th>\n",
       "      <th>Census_IsPortableOperatingSystem</th>\n",
       "      <th>Census_GenuineStateName</th>\n",
       "      <th>Census_ActivationChannel</th>\n",
       "      <th>Census_IsFlightsDisabled</th>\n",
       "      <th>Census_FlightRing</th>\n",
       "      <th>Census_FirmwareManufacturerIdentifier</th>\n",
       "      <th>Census_FirmwareVersionIdentifier</th>\n",
       "      <th>Census_IsPenCapable</th>\n",
       "      <th>Wdft_IsGamer</th>\n",
       "      <th>Wdft_RegionIdentifier</th>\n",
       "    </tr>\n",
       "  </thead>\n",
       "  <tbody>\n",
       "    <tr>\n",
       "      <th>0</th>\n",
       "      <td>0000010489e3af074adeac69c53e555e</td>\n",
       "      <td>win8defender</td>\n",
       "      <td>1.1.15400.5</td>\n",
       "      <td>4.18.1810.5</td>\n",
       "      <td>1.281.501.0</td>\n",
       "      <td>7</td>\n",
       "      <td>0</td>\n",
       "      <td>53447.0</td>\n",
       "      <td>1.0</td>\n",
       "      <td>1.0</td>\n",
       "      <td>...</td>\n",
       "      <td>0</td>\n",
       "      <td>IS_GENUINE</td>\n",
       "      <td>OEM:DM</td>\n",
       "      <td>0</td>\n",
       "      <td>Retail</td>\n",
       "      <td>807.0</td>\n",
       "      <td>8554.0</td>\n",
       "      <td>0</td>\n",
       "      <td>0</td>\n",
       "      <td>7.0</td>\n",
       "    </tr>\n",
       "    <tr>\n",
       "      <th>1</th>\n",
       "      <td>00000176ac758d54827acd545b6315a5</td>\n",
       "      <td>win8defender</td>\n",
       "      <td>1.1.15400.4</td>\n",
       "      <td>4.18.1809.2</td>\n",
       "      <td>1.279.301.0</td>\n",
       "      <td>7</td>\n",
       "      <td>0</td>\n",
       "      <td>53447.0</td>\n",
       "      <td>1.0</td>\n",
       "      <td>1.0</td>\n",
       "      <td>...</td>\n",
       "      <td>0</td>\n",
       "      <td>IS_GENUINE</td>\n",
       "      <td>Retail</td>\n",
       "      <td>0</td>\n",
       "      <td>Retail</td>\n",
       "      <td>554.0</td>\n",
       "      <td>33105.0</td>\n",
       "      <td>0</td>\n",
       "      <td>1</td>\n",
       "      <td>12.0</td>\n",
       "    </tr>\n",
       "    <tr>\n",
       "      <th>2</th>\n",
       "      <td>0000019dcefc128c2d4387c1273dae1d</td>\n",
       "      <td>win8defender</td>\n",
       "      <td>1.1.15300.6</td>\n",
       "      <td>4.18.1809.2</td>\n",
       "      <td>1.277.230.0</td>\n",
       "      <td>7</td>\n",
       "      <td>0</td>\n",
       "      <td>49480.0</td>\n",
       "      <td>2.0</td>\n",
       "      <td>1.0</td>\n",
       "      <td>...</td>\n",
       "      <td>0</td>\n",
       "      <td>IS_GENUINE</td>\n",
       "      <td>OEM:DM</td>\n",
       "      <td>0</td>\n",
       "      <td>Retail</td>\n",
       "      <td>556.0</td>\n",
       "      <td>63396.0</td>\n",
       "      <td>0</td>\n",
       "      <td>1</td>\n",
       "      <td>11.0</td>\n",
       "    </tr>\n",
       "    <tr>\n",
       "      <th>3</th>\n",
       "      <td>0000055553dc51b1295785415f1a224d</td>\n",
       "      <td>win8defender</td>\n",
       "      <td>1.1.15400.5</td>\n",
       "      <td>4.18.1810.5</td>\n",
       "      <td>1.281.664.0</td>\n",
       "      <td>7</td>\n",
       "      <td>0</td>\n",
       "      <td>42160.0</td>\n",
       "      <td>2.0</td>\n",
       "      <td>1.0</td>\n",
       "      <td>...</td>\n",
       "      <td>0</td>\n",
       "      <td>IS_GENUINE</td>\n",
       "      <td>OEM:DM</td>\n",
       "      <td>0</td>\n",
       "      <td>Retail</td>\n",
       "      <td>628.0</td>\n",
       "      <td>26320.0</td>\n",
       "      <td>0</td>\n",
       "      <td>0</td>\n",
       "      <td>10.0</td>\n",
       "    </tr>\n",
       "    <tr>\n",
       "      <th>4</th>\n",
       "      <td>00000574cefffeca83ec8adf9285b2bf</td>\n",
       "      <td>win8defender</td>\n",
       "      <td>1.1.15400.4</td>\n",
       "      <td>4.18.1809.2</td>\n",
       "      <td>1.279.236.0</td>\n",
       "      <td>7</td>\n",
       "      <td>0</td>\n",
       "      <td>53447.0</td>\n",
       "      <td>1.0</td>\n",
       "      <td>1.0</td>\n",
       "      <td>...</td>\n",
       "      <td>0</td>\n",
       "      <td>IS_GENUINE</td>\n",
       "      <td>Retail</td>\n",
       "      <td>0</td>\n",
       "      <td>Retail</td>\n",
       "      <td>556.0</td>\n",
       "      <td>63269.0</td>\n",
       "      <td>0</td>\n",
       "      <td>1</td>\n",
       "      <td>3.0</td>\n",
       "    </tr>\n",
       "  </tbody>\n",
       "</table>\n",
       "<p>5 rows × 60 columns</p>\n",
       "</div>"
      ],
      "text/plain": [
       "                  MachineIdentifier   ProductName EngineVersion   AppVersion  \\\n",
       "0  0000010489e3af074adeac69c53e555e  win8defender   1.1.15400.5  4.18.1810.5   \n",
       "1  00000176ac758d54827acd545b6315a5  win8defender   1.1.15400.4  4.18.1809.2   \n",
       "2  0000019dcefc128c2d4387c1273dae1d  win8defender   1.1.15300.6  4.18.1809.2   \n",
       "3  0000055553dc51b1295785415f1a224d  win8defender   1.1.15400.5  4.18.1810.5   \n",
       "4  00000574cefffeca83ec8adf9285b2bf  win8defender   1.1.15400.4  4.18.1809.2   \n",
       "\n",
       "  AvSigVersion  RtpStateBitfield  IsSxsPassiveMode  AVProductStatesIdentifier  \\\n",
       "0  1.281.501.0                 7                 0                    53447.0   \n",
       "1  1.279.301.0                 7                 0                    53447.0   \n",
       "2  1.277.230.0                 7                 0                    49480.0   \n",
       "3  1.281.664.0                 7                 0                    42160.0   \n",
       "4  1.279.236.0                 7                 0                    53447.0   \n",
       "\n",
       "   AVProductsInstalled  AVProductsEnabled  ...  \\\n",
       "0                  1.0                1.0  ...   \n",
       "1                  1.0                1.0  ...   \n",
       "2                  2.0                1.0  ...   \n",
       "3                  2.0                1.0  ...   \n",
       "4                  1.0                1.0  ...   \n",
       "\n",
       "   Census_IsPortableOperatingSystem  Census_GenuineStateName  \\\n",
       "0                                 0               IS_GENUINE   \n",
       "1                                 0               IS_GENUINE   \n",
       "2                                 0               IS_GENUINE   \n",
       "3                                 0               IS_GENUINE   \n",
       "4                                 0               IS_GENUINE   \n",
       "\n",
       "   Census_ActivationChannel  Census_IsFlightsDisabled  Census_FlightRing  \\\n",
       "0                    OEM:DM                         0             Retail   \n",
       "1                    Retail                         0             Retail   \n",
       "2                    OEM:DM                         0             Retail   \n",
       "3                    OEM:DM                         0             Retail   \n",
       "4                    Retail                         0             Retail   \n",
       "\n",
       "   Census_FirmwareManufacturerIdentifier Census_FirmwareVersionIdentifier  \\\n",
       "0                                  807.0                           8554.0   \n",
       "1                                  554.0                          33105.0   \n",
       "2                                  556.0                          63396.0   \n",
       "3                                  628.0                          26320.0   \n",
       "4                                  556.0                          63269.0   \n",
       "\n",
       "  Census_IsPenCapable Wdft_IsGamer  Wdft_RegionIdentifier  \n",
       "0                   0            0                    7.0  \n",
       "1                   0            1                   12.0  \n",
       "2                   0            1                   11.0  \n",
       "3                   0            0                   10.0  \n",
       "4                   0            1                    3.0  \n",
       "\n",
       "[5 rows x 60 columns]"
      ]
     },
     "execution_count": 29,
     "metadata": {},
     "output_type": "execute_result"
    }
   ],
   "source": [
    "test_df = pd.read_csv('/kaggle/input/microsoft-malware-prediction/test.csv',\n",
    "                      usecols = lambda x: x not in columns_to_ignore,\n",
    "                      dtype = column_data_types)\n",
    "test_df.head()"
   ]
  },
  {
   "cell_type": "code",
   "execution_count": 30,
   "metadata": {
    "execution": {
     "iopub.execute_input": "2023-05-29T14:01:36.472801Z",
     "iopub.status.busy": "2023-05-29T14:01:36.472559Z",
     "iopub.status.idle": "2023-05-29T14:01:36.478348Z",
     "shell.execute_reply": "2023-05-29T14:01:36.477437Z",
     "shell.execute_reply.started": "2023-05-29T14:01:36.472780Z"
    }
   },
   "outputs": [],
   "source": [
    "submission = test_df.pop('MachineIdentifier').to_frame()"
   ]
  },
  {
   "cell_type": "markdown",
   "metadata": {},
   "source": [
    "**We apply the same pre-processing function that we defined earlier for the training datafrane**"
   ]
  },
  {
   "cell_type": "code",
   "execution_count": 31,
   "metadata": {
    "execution": {
     "iopub.execute_input": "2023-05-29T14:01:36.480358Z",
     "iopub.status.busy": "2023-05-29T14:01:36.480111Z",
     "iopub.status.idle": "2023-05-29T14:04:01.079254Z",
     "shell.execute_reply": "2023-05-29T14:04:01.077728Z",
     "shell.execute_reply.started": "2023-05-29T14:01:36.480338Z"
    }
   },
   "outputs": [],
   "source": [
    "test_df = categorical_preprocessing(test_df)"
   ]
  },
  {
   "cell_type": "code",
   "execution_count": 32,
   "metadata": {
    "execution": {
     "iopub.execute_input": "2023-05-29T14:04:01.080941Z",
     "iopub.status.busy": "2023-05-29T14:04:01.080630Z",
     "iopub.status.idle": "2023-05-29T14:05:57.988188Z",
     "shell.execute_reply": "2023-05-29T14:05:57.986535Z",
     "shell.execute_reply.started": "2023-05-29T14:04:01.080915Z"
    }
   },
   "outputs": [
    {
     "data": {
      "text/plain": [
       "ProductName         0\n",
       "EngineVersion       0\n",
       "AppVersion          0\n",
       "AvSigVersion        0\n",
       "RtpStateBitfield    0\n",
       "                   ..\n",
       "OsBuildLab_0        0\n",
       "OsBuildLab_1        0\n",
       "OsBuildLab_2        0\n",
       "OsBuildLab_3        0\n",
       "OsBuildLab_4        0\n",
       "Length: 63, dtype: int64"
      ]
     },
     "execution_count": 32,
     "metadata": {},
     "output_type": "execute_result"
    }
   ],
   "source": [
    "test_df[string_columns] = test_df[string_columns].fillna('na')\n",
    "test_df[not_string_columns] = test_df[not_string_columns].fillna(na_value)\n",
    "test_df.isna().sum()"
   ]
  },
  {
   "cell_type": "markdown",
   "metadata": {},
   "source": [
    "**We carry out ordinal transformation as we had performed earlier on the training dataframe**"
   ]
  },
  {
   "cell_type": "code",
   "execution_count": 33,
   "metadata": {
    "execution": {
     "iopub.execute_input": "2023-05-29T14:05:57.989889Z",
     "iopub.status.busy": "2023-05-29T14:05:57.989527Z",
     "iopub.status.idle": "2023-05-29T14:07:52.171664Z",
     "shell.execute_reply": "2023-05-29T14:07:52.170556Z",
     "shell.execute_reply.started": "2023-05-29T14:05:57.989863Z"
    }
   },
   "outputs": [],
   "source": [
    "test_df = ord_enc.transform(test_df)\n",
    "test_df = np.where(test_df == unknown_value, maximum_values, test_df)"
   ]
  },
  {
   "cell_type": "markdown",
   "metadata": {},
   "source": [
    "**We create the predictions and load it into a csv for submission to the competition**"
   ]
  },
  {
   "cell_type": "code",
   "execution_count": 34,
   "metadata": {
    "execution": {
     "iopub.execute_input": "2023-05-29T14:07:52.173458Z",
     "iopub.status.busy": "2023-05-29T14:07:52.173190Z",
     "iopub.status.idle": "2023-05-29T14:10:45.391585Z",
     "shell.execute_reply": "2023-05-29T14:10:45.390670Z",
     "shell.execute_reply.started": "2023-05-29T14:07:52.173434Z"
    }
   },
   "outputs": [
    {
     "data": {
      "text/html": [
       "<div>\n",
       "<style scoped>\n",
       "    .dataframe tbody tr th:only-of-type {\n",
       "        vertical-align: middle;\n",
       "    }\n",
       "\n",
       "    .dataframe tbody tr th {\n",
       "        vertical-align: top;\n",
       "    }\n",
       "\n",
       "    .dataframe thead th {\n",
       "        text-align: right;\n",
       "    }\n",
       "</style>\n",
       "<table border=\"1\" class=\"dataframe\">\n",
       "  <thead>\n",
       "    <tr style=\"text-align: right;\">\n",
       "      <th></th>\n",
       "      <th>MachineIdentifier</th>\n",
       "      <th>HasDetections</th>\n",
       "    </tr>\n",
       "  </thead>\n",
       "  <tbody>\n",
       "    <tr>\n",
       "      <th>0</th>\n",
       "      <td>0000010489e3af074adeac69c53e555e</td>\n",
       "      <td>0.489514</td>\n",
       "    </tr>\n",
       "    <tr>\n",
       "      <th>1</th>\n",
       "      <td>00000176ac758d54827acd545b6315a5</td>\n",
       "      <td>0.561992</td>\n",
       "    </tr>\n",
       "    <tr>\n",
       "      <th>2</th>\n",
       "      <td>0000019dcefc128c2d4387c1273dae1d</td>\n",
       "      <td>0.460239</td>\n",
       "    </tr>\n",
       "    <tr>\n",
       "      <th>3</th>\n",
       "      <td>0000055553dc51b1295785415f1a224d</td>\n",
       "      <td>0.376319</td>\n",
       "    </tr>\n",
       "    <tr>\n",
       "      <th>4</th>\n",
       "      <td>00000574cefffeca83ec8adf9285b2bf</td>\n",
       "      <td>0.484574</td>\n",
       "    </tr>\n",
       "  </tbody>\n",
       "</table>\n",
       "</div>"
      ],
      "text/plain": [
       "                  MachineIdentifier  HasDetections\n",
       "0  0000010489e3af074adeac69c53e555e       0.489514\n",
       "1  00000176ac758d54827acd545b6315a5       0.561992\n",
       "2  0000019dcefc128c2d4387c1273dae1d       0.460239\n",
       "3  0000055553dc51b1295785415f1a224d       0.376319\n",
       "4  00000574cefffeca83ec8adf9285b2bf       0.484574"
      ]
     },
     "execution_count": 34,
     "metadata": {},
     "output_type": "execute_result"
    }
   ],
   "source": [
    "submission[label_column] = clf_lgbm.predict_proba(test_df)[:, 1]\n",
    "submission.head()"
   ]
  },
  {
   "cell_type": "code",
   "execution_count": null,
   "metadata": {},
   "outputs": [],
   "source": []
  }
 ],
 "metadata": {
  "kernelspec": {
   "display_name": "Python 3",
   "language": "python",
   "name": "python3"
  },
  "language_info": {
   "codemirror_mode": {
    "name": "ipython",
    "version": 3
   },
   "file_extension": ".py",
   "mimetype": "text/x-python",
   "name": "python",
   "nbconvert_exporter": "python",
   "pygments_lexer": "ipython3",
   "version": "3.10.10"
  }
 },
 "nbformat": 4,
 "nbformat_minor": 4
}
