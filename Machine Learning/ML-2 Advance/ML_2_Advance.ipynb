{
  "nbformat": 4,
  "nbformat_minor": 0,
  "metadata": {
    "colab": {
      "provenance": []
    },
    "kernelspec": {
      "name": "python3",
      "display_name": "Python 3"
    },
    "language_info": {
      "name": "python"
    }
  },
  "cells": [
    {
      "cell_type": "code",
      "execution_count": null,
      "metadata": {
        "colab": {
          "base_uri": "https://localhost:8080/"
        },
        "id": "1vfoeJhmF43Q",
        "outputId": "8d496d8e-aa6e-4833-c989-6c2704b30535"
      },
      "outputs": [
        {
          "output_type": "stream",
          "name": "stdout",
          "text": [
            "Mounted at /content/drive\n"
          ]
        }
      ],
      "source": [
        "from google.colab import drive\n",
        "drive.mount('/content/drive')"
      ]
    },
    {
      "cell_type": "code",
      "source": [
        "from pyspark.sql import SparkSession\n",
        "from pyspark.ml.feature import StringIndexer, VectorAssembler\n",
        "from pyspark.ml.classification import LogisticRegression\n",
        "from pyspark.ml import Pipeline"
      ],
      "metadata": {
        "id": "-hw_94wqGqVE"
      },
      "execution_count": null,
      "outputs": []
    },
    {
      "cell_type": "code",
      "source": [
        "!pip install pyspark"
      ],
      "metadata": {
        "colab": {
          "base_uri": "https://localhost:8080/"
        },
        "id": "h5oyyuCZcSj2",
        "outputId": "6629ac33-95e5-4949-ab0a-5a49ebe60d2b"
      },
      "execution_count": null,
      "outputs": [
        {
          "output_type": "stream",
          "name": "stdout",
          "text": [
            "Looking in indexes: https://pypi.org/simple, https://us-python.pkg.dev/colab-wheels/public/simple/\n",
            "Collecting pyspark\n",
            "  Downloading pyspark-3.4.0.tar.gz (310.8 MB)\n",
            "\u001b[2K     \u001b[90m━━━━━━━━━━━━━━━━━━━━━━━━━━━━━━━━━━━━━━━\u001b[0m \u001b[32m310.8/310.8 MB\u001b[0m \u001b[31m4.3 MB/s\u001b[0m eta \u001b[36m0:00:00\u001b[0m\n",
            "\u001b[?25h  Preparing metadata (setup.py) ... \u001b[?25l\u001b[?25hdone\n",
            "Requirement already satisfied: py4j==0.10.9.7 in /usr/local/lib/python3.10/dist-packages (from pyspark) (0.10.9.7)\n",
            "Building wheels for collected packages: pyspark\n",
            "  Building wheel for pyspark (setup.py) ... \u001b[?25l\u001b[?25hdone\n",
            "  Created wheel for pyspark: filename=pyspark-3.4.0-py2.py3-none-any.whl size=311317130 sha256=94c4b2a64eebd15aa3b9a0b78599bc0138f3089541fd594cd21a823b595c9068\n",
            "  Stored in directory: /root/.cache/pip/wheels/7b/1b/4b/3363a1d04368e7ff0d408e57ff57966fcdf00583774e761327\n",
            "Successfully built pyspark\n",
            "Installing collected packages: pyspark\n",
            "Successfully installed pyspark-3.4.0\n"
          ]
        }
      ]
    },
    {
      "cell_type": "code",
      "source": [
        "spark = SparkSession.builder.appName(\"ChemicalClassification\").getOrCreate()"
      ],
      "metadata": {
        "id": "MEyaN4d4G2Xm"
      },
      "execution_count": null,
      "outputs": []
    },
    {
      "cell_type": "code",
      "source": [
        "data = spark.read.csv(\"/content/drive/MyDrive/Colab Notebooks/ML/indian_liver_patient.csv\", header=True, inferSchema=True)"
      ],
      "metadata": {
        "id": "bPhD5UCUHCci"
      },
      "execution_count": null,
      "outputs": []
    },
    {
      "cell_type": "code",
      "source": [
        "data"
      ],
      "metadata": {
        "colab": {
          "base_uri": "https://localhost:8080/"
        },
        "id": "-lgZH5ovHP12",
        "outputId": "7b2175a4-6ce2-41e4-87d1-429760402631"
      },
      "execution_count": null,
      "outputs": [
        {
          "output_type": "execute_result",
          "data": {
            "text/plain": [
              "DataFrame[Age: int, Gender: string, Total_Bilirubin: double, Direct_Bilirubin: double, Alkaline_Phosphotase: int, Alamine_Aminotransferase: int, Aspartate_Aminotransferase: int, Total_Protiens: double, Albumin: double, Albumin_and_Globulin_Ratio: double, Dataset: int]"
            ]
          },
          "metadata": {},
          "execution_count": 41
        }
      ]
    },
    {
      "cell_type": "code",
      "source": [
        "data.show()"
      ],
      "metadata": {
        "colab": {
          "base_uri": "https://localhost:8080/"
        },
        "id": "FGili35kHTVj",
        "outputId": "d01eec48-4474-43b0-ecd5-ddfbb2be9380"
      },
      "execution_count": null,
      "outputs": [
        {
          "output_type": "stream",
          "name": "stdout",
          "text": [
            "+---+------+---------------+----------------+--------------------+------------------------+--------------------------+--------------+-------+--------------------------+-------+\n",
            "|Age|Gender|Total_Bilirubin|Direct_Bilirubin|Alkaline_Phosphotase|Alamine_Aminotransferase|Aspartate_Aminotransferase|Total_Protiens|Albumin|Albumin_and_Globulin_Ratio|Dataset|\n",
            "+---+------+---------------+----------------+--------------------+------------------------+--------------------------+--------------+-------+--------------------------+-------+\n",
            "| 65|Female|            0.7|             0.1|                 187|                      16|                        18|           6.8|    3.3|                       0.9|      1|\n",
            "| 62|  Male|           10.9|             5.5|                 699|                      64|                       100|           7.5|    3.2|                      0.74|      1|\n",
            "| 62|  Male|            7.3|             4.1|                 490|                      60|                        68|           7.0|    3.3|                      0.89|      1|\n",
            "| 58|  Male|            1.0|             0.4|                 182|                      14|                        20|           6.8|    3.4|                       1.0|      1|\n",
            "| 72|  Male|            3.9|             2.0|                 195|                      27|                        59|           7.3|    2.4|                       0.4|      1|\n",
            "| 46|  Male|            1.8|             0.7|                 208|                      19|                        14|           7.6|    4.4|                       1.3|      1|\n",
            "| 26|Female|            0.9|             0.2|                 154|                      16|                        12|           7.0|    3.5|                       1.0|      1|\n",
            "| 29|Female|            0.9|             0.3|                 202|                      14|                        11|           6.7|    3.6|                       1.1|      1|\n",
            "| 17|  Male|            0.9|             0.3|                 202|                      22|                        19|           7.4|    4.1|                       1.2|      2|\n",
            "| 55|  Male|            0.7|             0.2|                 290|                      53|                        58|           6.8|    3.4|                       1.0|      1|\n",
            "| 57|  Male|            0.6|             0.1|                 210|                      51|                        59|           5.9|    2.7|                       0.8|      1|\n",
            "| 72|  Male|            2.7|             1.3|                 260|                      31|                        56|           7.4|    3.0|                       0.6|      1|\n",
            "| 64|  Male|            0.9|             0.3|                 310|                      61|                        58|           7.0|    3.4|                       0.9|      2|\n",
            "| 74|Female|            1.1|             0.4|                 214|                      22|                        30|           8.1|    4.1|                       1.0|      1|\n",
            "| 61|  Male|            0.7|             0.2|                 145|                      53|                        41|           5.8|    2.7|                      0.87|      1|\n",
            "| 25|  Male|            0.6|             0.1|                 183|                      91|                        53|           5.5|    2.3|                       0.7|      2|\n",
            "| 38|  Male|            1.8|             0.8|                 342|                     168|                       441|           7.6|    4.4|                       1.3|      1|\n",
            "| 33|  Male|            1.6|             0.5|                 165|                      15|                        23|           7.3|    3.5|                      0.92|      2|\n",
            "| 40|Female|            0.9|             0.3|                 293|                     232|                       245|           6.8|    3.1|                       0.8|      1|\n",
            "| 40|Female|            0.9|             0.3|                 293|                     232|                       245|           6.8|    3.1|                       0.8|      1|\n",
            "+---+------+---------------+----------------+--------------------+------------------------+--------------------------+--------------+-------+--------------------------+-------+\n",
            "only showing top 20 rows\n",
            "\n"
          ]
        }
      ]
    },
    {
      "cell_type": "code",
      "source": [
        "data.printSchema()"
      ],
      "metadata": {
        "colab": {
          "base_uri": "https://localhost:8080/"
        },
        "id": "Mmm1HZHTHj81",
        "outputId": "8954fa7d-0718-4463-c063-4e437b36d452"
      },
      "execution_count": null,
      "outputs": [
        {
          "output_type": "stream",
          "name": "stdout",
          "text": [
            "root\n",
            " |-- Age: integer (nullable = true)\n",
            " |-- Gender: string (nullable = true)\n",
            " |-- Total_Bilirubin: double (nullable = true)\n",
            " |-- Direct_Bilirubin: double (nullable = true)\n",
            " |-- Alkaline_Phosphotase: integer (nullable = true)\n",
            " |-- Alamine_Aminotransferase: integer (nullable = true)\n",
            " |-- Aspartate_Aminotransferase: integer (nullable = true)\n",
            " |-- Total_Protiens: double (nullable = true)\n",
            " |-- Albumin: double (nullable = true)\n",
            " |-- Albumin_and_Globulin_Ratio: double (nullable = true)\n",
            " |-- Dataset: integer (nullable = true)\n",
            "\n"
          ]
        }
      ]
    },
    {
      "cell_type": "code",
      "source": [
        "data.count()"
      ],
      "metadata": {
        "colab": {
          "base_uri": "https://localhost:8080/"
        },
        "id": "iglrV1_1Hopo",
        "outputId": "62d4b476-1ffe-4fd2-8e53-ddbf35ce9670"
      },
      "execution_count": null,
      "outputs": [
        {
          "output_type": "execute_result",
          "data": {
            "text/plain": [
              "583"
            ]
          },
          "metadata": {},
          "execution_count": 31
        }
      ]
    },
    {
      "cell_type": "code",
      "source": [
        "data.describe().show()"
      ],
      "metadata": {
        "colab": {
          "base_uri": "https://localhost:8080/"
        },
        "id": "Wi4ksZyAHrxI",
        "outputId": "42b1392d-1366-4ab2-f9f1-859458e9d4ff"
      },
      "execution_count": null,
      "outputs": [
        {
          "output_type": "stream",
          "name": "stdout",
          "text": [
            "+-------+------------------+------+-----------------+------------------+--------------------+------------------------+--------------------------+------------------+-----------------+--------------------------+------------------+\n",
            "|summary|               Age|Gender|  Total_Bilirubin|  Direct_Bilirubin|Alkaline_Phosphotase|Alamine_Aminotransferase|Aspartate_Aminotransferase|    Total_Protiens|          Albumin|Albumin_and_Globulin_Ratio|           Dataset|\n",
            "+-------+------------------+------+-----------------+------------------+--------------------+------------------------+--------------------------+------------------+-----------------+--------------------------+------------------+\n",
            "|  count|               583|   583|              583|               583|                 583|                     583|                       583|               583|              583|                       579|               583|\n",
            "|   mean| 44.74614065180103|  null|3.298799313893652|1.4861063464837074|  290.57632933104634|       80.71355060034305|        109.91080617495712| 6.483190394511151| 3.14185248713551|        0.9470639032815201|1.2864493996569468|\n",
            "| stddev|16.189833304694375|  null|6.209521726180151| 2.808497617658965|  242.93798917934402|       182.6203560342026|         288.9185290517341|1.0854514840234648|0.795518805964026|       0.31959210767237056|0.4524901515081166|\n",
            "|    min|                 4|Female|              0.4|               0.1|                  63|                      10|                        10|               2.7|              0.9|                       0.3|                 1|\n",
            "|    max|                90|  Male|             75.0|              19.7|                2110|                    2000|                      4929|               9.6|              5.5|                       2.8|                 2|\n",
            "+-------+------------------+------+-----------------+------------------+--------------------+------------------------+--------------------------+------------------+-----------------+--------------------------+------------------+\n",
            "\n"
          ]
        }
      ]
    },
    {
      "cell_type": "code",
      "source": [
        "from pyspark.sql.functions import col, mean, isnan, when\n",
        "from pyspark.sql.types import DoubleType\n",
        "\n",
        "# Calculate the mean of each column with missing values\n",
        "mean_values = data.select(*(mean(col(c)).alias(c) for c in data.columns if data.select(col(c)).filter(col(c).isNull()).count() > 0)).collect()[0].asDict()\n",
        "\n",
        "mean_values"
      ],
      "metadata": {
        "colab": {
          "base_uri": "https://localhost:8080/"
        },
        "id": "nkvAWxpKHwoM",
        "outputId": "436877ef-6339-4afc-867f-02eacc8b0550"
      },
      "execution_count": null,
      "outputs": [
        {
          "output_type": "execute_result",
          "data": {
            "text/plain": [
              "{'Albumin_and_Globulin_Ratio': 0.9470639032815201}"
            ]
          },
          "metadata": {},
          "execution_count": 44
        }
      ]
    },
    {
      "cell_type": "code",
      "source": [
        "# Fill missing values with the corresponding mean\n",
        "filled_data = data\n",
        "for column, mean_value in mean_values.items():\n",
        "    filled_data = filled_data.withColumn(column, when(col(column).isNull(), mean_value).otherwise(col(column)))"
      ],
      "metadata": {
        "id": "T8FwH5XaIVb4"
      },
      "execution_count": null,
      "outputs": []
    },
    {
      "cell_type": "code",
      "source": [
        "# Replace infinite values with null for all features\n",
        "for feature in filled_data.columns:\n",
        "    filled_data = filled_data.withColumn(feature, when(~isnan(col(feature)), col(feature)).otherwise(None))"
      ],
      "metadata": {
        "id": "k4iuPFycIbE9"
      },
      "execution_count": null,
      "outputs": []
    },
    {
      "cell_type": "code",
      "source": [
        "filled_data.show()"
      ],
      "metadata": {
        "colab": {
          "base_uri": "https://localhost:8080/"
        },
        "id": "I9XbHFsVIpXY",
        "outputId": "af62b1a5-2d78-4a51-b5b5-dc84dfef75d4"
      },
      "execution_count": null,
      "outputs": [
        {
          "output_type": "stream",
          "name": "stdout",
          "text": [
            "+---+------+---------------+----------------+--------------------+------------------------+--------------------------+--------------+-------+--------------------------+-------+\n",
            "|Age|Gender|Total_Bilirubin|Direct_Bilirubin|Alkaline_Phosphotase|Alamine_Aminotransferase|Aspartate_Aminotransferase|Total_Protiens|Albumin|Albumin_and_Globulin_Ratio|Dataset|\n",
            "+---+------+---------------+----------------+--------------------+------------------------+--------------------------+--------------+-------+--------------------------+-------+\n",
            "| 65|Female|            0.7|             0.1|                 187|                      16|                        18|           6.8|    3.3|                       0.9|      1|\n",
            "| 62|  Male|           10.9|             5.5|                 699|                      64|                       100|           7.5|    3.2|                      0.74|      1|\n",
            "| 62|  Male|            7.3|             4.1|                 490|                      60|                        68|           7.0|    3.3|                      0.89|      1|\n",
            "| 58|  Male|            1.0|             0.4|                 182|                      14|                        20|           6.8|    3.4|                       1.0|      1|\n",
            "| 72|  Male|            3.9|             2.0|                 195|                      27|                        59|           7.3|    2.4|                       0.4|      1|\n",
            "| 46|  Male|            1.8|             0.7|                 208|                      19|                        14|           7.6|    4.4|                       1.3|      1|\n",
            "| 26|Female|            0.9|             0.2|                 154|                      16|                        12|           7.0|    3.5|                       1.0|      1|\n",
            "| 29|Female|            0.9|             0.3|                 202|                      14|                        11|           6.7|    3.6|                       1.1|      1|\n",
            "| 17|  Male|            0.9|             0.3|                 202|                      22|                        19|           7.4|    4.1|                       1.2|      2|\n",
            "| 55|  Male|            0.7|             0.2|                 290|                      53|                        58|           6.8|    3.4|                       1.0|      1|\n",
            "| 57|  Male|            0.6|             0.1|                 210|                      51|                        59|           5.9|    2.7|                       0.8|      1|\n",
            "| 72|  Male|            2.7|             1.3|                 260|                      31|                        56|           7.4|    3.0|                       0.6|      1|\n",
            "| 64|  Male|            0.9|             0.3|                 310|                      61|                        58|           7.0|    3.4|                       0.9|      2|\n",
            "| 74|Female|            1.1|             0.4|                 214|                      22|                        30|           8.1|    4.1|                       1.0|      1|\n",
            "| 61|  Male|            0.7|             0.2|                 145|                      53|                        41|           5.8|    2.7|                      0.87|      1|\n",
            "| 25|  Male|            0.6|             0.1|                 183|                      91|                        53|           5.5|    2.3|                       0.7|      2|\n",
            "| 38|  Male|            1.8|             0.8|                 342|                     168|                       441|           7.6|    4.4|                       1.3|      1|\n",
            "| 33|  Male|            1.6|             0.5|                 165|                      15|                        23|           7.3|    3.5|                      0.92|      2|\n",
            "| 40|Female|            0.9|             0.3|                 293|                     232|                       245|           6.8|    3.1|                       0.8|      1|\n",
            "| 40|Female|            0.9|             0.3|                 293|                     232|                       245|           6.8|    3.1|                       0.8|      1|\n",
            "+---+------+---------------+----------------+--------------------+------------------------+--------------------------+--------------+-------+--------------------------+-------+\n",
            "only showing top 20 rows\n",
            "\n"
          ]
        }
      ]
    },
    {
      "cell_type": "code",
      "source": [
        "# Convert the \"Gender\" column to numerical using StringIndexer\n",
        "gender_indexer = StringIndexer(inputCol=\"Gender\", outputCol=\"GenderIndex\")\n",
        "filled_data = gender_indexer.fit(filled_data).transform(filled_data)\n",
        "filled_data.show()"
      ],
      "metadata": {
        "colab": {
          "base_uri": "https://localhost:8080/"
        },
        "id": "KfADR_SBJbkM",
        "outputId": "aeb0440f-8426-4eff-e03e-4c891ebe7b2d"
      },
      "execution_count": null,
      "outputs": [
        {
          "output_type": "stream",
          "name": "stdout",
          "text": [
            "+---+------+---------------+----------------+--------------------+------------------------+--------------------------+--------------+-------+--------------------------+-------+-----------+\n",
            "|Age|Gender|Total_Bilirubin|Direct_Bilirubin|Alkaline_Phosphotase|Alamine_Aminotransferase|Aspartate_Aminotransferase|Total_Protiens|Albumin|Albumin_and_Globulin_Ratio|Dataset|GenderIndex|\n",
            "+---+------+---------------+----------------+--------------------+------------------------+--------------------------+--------------+-------+--------------------------+-------+-----------+\n",
            "| 65|Female|            0.7|             0.1|                 187|                      16|                        18|           6.8|    3.3|                       0.9|      1|        1.0|\n",
            "| 62|  Male|           10.9|             5.5|                 699|                      64|                       100|           7.5|    3.2|                      0.74|      1|        0.0|\n",
            "| 62|  Male|            7.3|             4.1|                 490|                      60|                        68|           7.0|    3.3|                      0.89|      1|        0.0|\n",
            "| 58|  Male|            1.0|             0.4|                 182|                      14|                        20|           6.8|    3.4|                       1.0|      1|        0.0|\n",
            "| 72|  Male|            3.9|             2.0|                 195|                      27|                        59|           7.3|    2.4|                       0.4|      1|        0.0|\n",
            "| 46|  Male|            1.8|             0.7|                 208|                      19|                        14|           7.6|    4.4|                       1.3|      1|        0.0|\n",
            "| 26|Female|            0.9|             0.2|                 154|                      16|                        12|           7.0|    3.5|                       1.0|      1|        1.0|\n",
            "| 29|Female|            0.9|             0.3|                 202|                      14|                        11|           6.7|    3.6|                       1.1|      1|        1.0|\n",
            "| 17|  Male|            0.9|             0.3|                 202|                      22|                        19|           7.4|    4.1|                       1.2|      2|        0.0|\n",
            "| 55|  Male|            0.7|             0.2|                 290|                      53|                        58|           6.8|    3.4|                       1.0|      1|        0.0|\n",
            "| 57|  Male|            0.6|             0.1|                 210|                      51|                        59|           5.9|    2.7|                       0.8|      1|        0.0|\n",
            "| 72|  Male|            2.7|             1.3|                 260|                      31|                        56|           7.4|    3.0|                       0.6|      1|        0.0|\n",
            "| 64|  Male|            0.9|             0.3|                 310|                      61|                        58|           7.0|    3.4|                       0.9|      2|        0.0|\n",
            "| 74|Female|            1.1|             0.4|                 214|                      22|                        30|           8.1|    4.1|                       1.0|      1|        1.0|\n",
            "| 61|  Male|            0.7|             0.2|                 145|                      53|                        41|           5.8|    2.7|                      0.87|      1|        0.0|\n",
            "| 25|  Male|            0.6|             0.1|                 183|                      91|                        53|           5.5|    2.3|                       0.7|      2|        0.0|\n",
            "| 38|  Male|            1.8|             0.8|                 342|                     168|                       441|           7.6|    4.4|                       1.3|      1|        0.0|\n",
            "| 33|  Male|            1.6|             0.5|                 165|                      15|                        23|           7.3|    3.5|                      0.92|      2|        0.0|\n",
            "| 40|Female|            0.9|             0.3|                 293|                     232|                       245|           6.8|    3.1|                       0.8|      1|        1.0|\n",
            "| 40|Female|            0.9|             0.3|                 293|                     232|                       245|           6.8|    3.1|                       0.8|      1|        1.0|\n",
            "+---+------+---------------+----------------+--------------------+------------------------+--------------------------+--------------+-------+--------------------------+-------+-----------+\n",
            "only showing top 20 rows\n",
            "\n"
          ]
        }
      ]
    },
    {
      "cell_type": "code",
      "source": [
        "# Assemble the features into a vector\n",
        "feature_columns = [\"Age\", \"Total_Bilirubin\", \"Direct_Bilirubin\", \"Alkaline_Phosphotase\",\n",
        "                   \"Alamine_Aminotransferase\", \"Aspartate_Aminotransferase\", \"Total_Protiens\",\n",
        "                   \"Albumin\", \"Albumin_and_Globulin_Ratio\", \"GenderIndex\"]\n",
        "assembler = VectorAssembler(inputCols=feature_columns, outputCol=\"features\")\n",
        "data = assembler.transform(filled_data)\n",
        "\n",
        "data.show()"
      ],
      "metadata": {
        "colab": {
          "base_uri": "https://localhost:8080/"
        },
        "id": "dSIv1pWHKijJ",
        "outputId": "76f9ab2a-9eee-4d55-9bce-d00af64cf6b7"
      },
      "execution_count": null,
      "outputs": [
        {
          "output_type": "stream",
          "name": "stdout",
          "text": [
            "+---+------+---------------+----------------+--------------------+------------------------+--------------------------+--------------+-------+--------------------------+-------+-----------+--------------------+\n",
            "|Age|Gender|Total_Bilirubin|Direct_Bilirubin|Alkaline_Phosphotase|Alamine_Aminotransferase|Aspartate_Aminotransferase|Total_Protiens|Albumin|Albumin_and_Globulin_Ratio|Dataset|GenderIndex|            features|\n",
            "+---+------+---------------+----------------+--------------------+------------------------+--------------------------+--------------+-------+--------------------------+-------+-----------+--------------------+\n",
            "| 65|Female|            0.7|             0.1|                 187|                      16|                        18|           6.8|    3.3|                       0.9|      1|        1.0|[65.0,0.7,0.1,187...|\n",
            "| 62|  Male|           10.9|             5.5|                 699|                      64|                       100|           7.5|    3.2|                      0.74|      1|        0.0|[62.0,10.9,5.5,69...|\n",
            "| 62|  Male|            7.3|             4.1|                 490|                      60|                        68|           7.0|    3.3|                      0.89|      1|        0.0|[62.0,7.3,4.1,490...|\n",
            "| 58|  Male|            1.0|             0.4|                 182|                      14|                        20|           6.8|    3.4|                       1.0|      1|        0.0|[58.0,1.0,0.4,182...|\n",
            "| 72|  Male|            3.9|             2.0|                 195|                      27|                        59|           7.3|    2.4|                       0.4|      1|        0.0|[72.0,3.9,2.0,195...|\n",
            "| 46|  Male|            1.8|             0.7|                 208|                      19|                        14|           7.6|    4.4|                       1.3|      1|        0.0|[46.0,1.8,0.7,208...|\n",
            "| 26|Female|            0.9|             0.2|                 154|                      16|                        12|           7.0|    3.5|                       1.0|      1|        1.0|[26.0,0.9,0.2,154...|\n",
            "| 29|Female|            0.9|             0.3|                 202|                      14|                        11|           6.7|    3.6|                       1.1|      1|        1.0|[29.0,0.9,0.3,202...|\n",
            "| 17|  Male|            0.9|             0.3|                 202|                      22|                        19|           7.4|    4.1|                       1.2|      2|        0.0|[17.0,0.9,0.3,202...|\n",
            "| 55|  Male|            0.7|             0.2|                 290|                      53|                        58|           6.8|    3.4|                       1.0|      1|        0.0|[55.0,0.7,0.2,290...|\n",
            "| 57|  Male|            0.6|             0.1|                 210|                      51|                        59|           5.9|    2.7|                       0.8|      1|        0.0|[57.0,0.6,0.1,210...|\n",
            "| 72|  Male|            2.7|             1.3|                 260|                      31|                        56|           7.4|    3.0|                       0.6|      1|        0.0|[72.0,2.7,1.3,260...|\n",
            "| 64|  Male|            0.9|             0.3|                 310|                      61|                        58|           7.0|    3.4|                       0.9|      2|        0.0|[64.0,0.9,0.3,310...|\n",
            "| 74|Female|            1.1|             0.4|                 214|                      22|                        30|           8.1|    4.1|                       1.0|      1|        1.0|[74.0,1.1,0.4,214...|\n",
            "| 61|  Male|            0.7|             0.2|                 145|                      53|                        41|           5.8|    2.7|                      0.87|      1|        0.0|[61.0,0.7,0.2,145...|\n",
            "| 25|  Male|            0.6|             0.1|                 183|                      91|                        53|           5.5|    2.3|                       0.7|      2|        0.0|[25.0,0.6,0.1,183...|\n",
            "| 38|  Male|            1.8|             0.8|                 342|                     168|                       441|           7.6|    4.4|                       1.3|      1|        0.0|[38.0,1.8,0.8,342...|\n",
            "| 33|  Male|            1.6|             0.5|                 165|                      15|                        23|           7.3|    3.5|                      0.92|      2|        0.0|[33.0,1.6,0.5,165...|\n",
            "| 40|Female|            0.9|             0.3|                 293|                     232|                       245|           6.8|    3.1|                       0.8|      1|        1.0|[40.0,0.9,0.3,293...|\n",
            "| 40|Female|            0.9|             0.3|                 293|                     232|                       245|           6.8|    3.1|                       0.8|      1|        1.0|[40.0,0.9,0.3,293...|\n",
            "+---+------+---------------+----------------+--------------------+------------------------+--------------------------+--------------+-------+--------------------------+-------+-----------+--------------------+\n",
            "only showing top 20 rows\n",
            "\n"
          ]
        }
      ]
    },
    {
      "cell_type": "code",
      "source": [
        "# Select only the necessary columns for model training\n",
        "data = data.select(\"features\", \"Dataset\")\n",
        "data.show()"
      ],
      "metadata": {
        "colab": {
          "base_uri": "https://localhost:8080/"
        },
        "id": "2HbW0cifMeEl",
        "outputId": "8cc0c0fd-3193-4545-8818-e0858b207cfa"
      },
      "execution_count": null,
      "outputs": [
        {
          "output_type": "stream",
          "name": "stdout",
          "text": [
            "+--------------------+-------+\n",
            "|            features|Dataset|\n",
            "+--------------------+-------+\n",
            "|[65.0,0.7,0.1,187...|      1|\n",
            "|[62.0,10.9,5.5,69...|      1|\n",
            "|[62.0,7.3,4.1,490...|      1|\n",
            "|[58.0,1.0,0.4,182...|      1|\n",
            "|[72.0,3.9,2.0,195...|      1|\n",
            "|[46.0,1.8,0.7,208...|      1|\n",
            "|[26.0,0.9,0.2,154...|      1|\n",
            "|[29.0,0.9,0.3,202...|      1|\n",
            "|[17.0,0.9,0.3,202...|      2|\n",
            "|[55.0,0.7,0.2,290...|      1|\n",
            "|[57.0,0.6,0.1,210...|      1|\n",
            "|[72.0,2.7,1.3,260...|      1|\n",
            "|[64.0,0.9,0.3,310...|      2|\n",
            "|[74.0,1.1,0.4,214...|      1|\n",
            "|[61.0,0.7,0.2,145...|      1|\n",
            "|[25.0,0.6,0.1,183...|      2|\n",
            "|[38.0,1.8,0.8,342...|      1|\n",
            "|[33.0,1.6,0.5,165...|      2|\n",
            "|[40.0,0.9,0.3,293...|      1|\n",
            "|[40.0,0.9,0.3,293...|      1|\n",
            "+--------------------+-------+\n",
            "only showing top 20 rows\n",
            "\n"
          ]
        }
      ]
    },
    {
      "cell_type": "code",
      "source": [
        "# Split the data into train and test sets\n",
        "train_data, test_data = data.randomSplit([0.8, 0.2], seed=42)"
      ],
      "metadata": {
        "id": "g-301PVlcYda"
      },
      "execution_count": null,
      "outputs": []
    },
    {
      "cell_type": "code",
      "source": [
        "# Create an instance of the LogisticRegression model\n",
        "logreg = LogisticRegression(labelCol=\"Dataset\")"
      ],
      "metadata": {
        "id": "Uz1EHd0hK7gm"
      },
      "execution_count": null,
      "outputs": []
    },
    {
      "cell_type": "code",
      "source": [
        "# Fit the model to the train data\n",
        "model = logreg.fit(train_data)\n",
        "\n",
        "# Make predictions on the test data\n",
        "predictions = model.transform(test_data)\n",
        "\n",
        "# Show the predicted labels and corresponding features\n",
        "predictions.select(\"prediction\", \"features\").show()"
      ],
      "metadata": {
        "colab": {
          "base_uri": "https://localhost:8080/"
        },
        "id": "ad79wNajMpEc",
        "outputId": "19ef1dd6-c425-42e7-d323-8ce645f2968a"
      },
      "execution_count": null,
      "outputs": [
        {
          "output_type": "stream",
          "name": "stdout",
          "text": [
            "+----------+--------------------+\n",
            "|prediction|            features|\n",
            "+----------+--------------------+\n",
            "|       2.0|[6.0,0.6,0.1,289....|\n",
            "|       1.0|[10.0,0.8,0.1,395...|\n",
            "|       1.0|[12.0,0.8,0.2,302...|\n",
            "|       1.0|[13.0,1.5,0.5,575...|\n",
            "|       1.0|[16.0,7.7,4.1,268...|\n",
            "|       2.0|[17.0,0.9,0.2,279...|\n",
            "|       2.0|[18.0,0.8,0.2,228...|\n",
            "|       2.0|[18.0,1.8,0.7,178...|\n",
            "|       2.0|[21.0,1.0,0.3,142...|\n",
            "|       1.0|[21.0,3.9,1.8,150...|\n",
            "|       1.0|[21.0,18.5,9.5,38...|\n",
            "|       2.0|[22.0,0.8,0.2,198...|\n",
            "|       2.0|[22.0,0.9,0.3,179...|\n",
            "|       1.0|[22.0,2.7,1.0,160...|\n",
            "|       2.0|[24.0,0.9,0.2,195...|\n",
            "|       2.0|[25.0,0.9,0.3,159...|\n",
            "|       1.0|[26.0,1.7,0.6,210...|\n",
            "|       2.0|[29.0,0.8,0.2,156...|\n",
            "|       1.0|[30.0,1.3,0.4,482...|\n",
            "|       1.0|[31.0,0.6,0.1,175...|\n",
            "+----------+--------------------+\n",
            "only showing top 20 rows\n",
            "\n"
          ]
        }
      ]
    },
    {
      "cell_type": "code",
      "source": [],
      "metadata": {
        "id": "j3xMxlH0MrIZ"
      },
      "execution_count": null,
      "outputs": []
    }
  ]
}